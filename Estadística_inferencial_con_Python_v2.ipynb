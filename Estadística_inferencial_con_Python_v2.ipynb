{
  "nbformat": 4,
  "nbformat_minor": 0,
  "metadata": {
    "colab": {
      "provenance": [],
      "collapsed_sections": [],
      "toc_visible": true
    },
    "kernelspec": {
      "name": "python3",
      "display_name": "Python 3"
    }
  },
  "cells": [
    {
      "cell_type": "markdown",
      "metadata": {
        "id": "fb9pUStUq6xf"
      },
      "source": [
        "<img src = \"https://drive.google.com/uc?export=view&id=1XIxF92v5BOrpS63i6FMIXGddxAp8WSHd\" alt = \"Encabezado MLDS\" width = \"100%\">  </img>"
      ]
    },
    {
      "cell_type": "markdown",
      "metadata": {
        "id": "kyyYqzShjxwL"
      },
      "source": [
        "# **Estadística inferencial con *Python***\n",
        "---\n",
        "La **estadística inferencial** es una parte de la estadística que comprende los métodos y procedimientos para determinar propiedades de una población a partir de una muestra. Su objetivo es obtener conclusiones útiles para hacer deducciones sobre una población, basándose en la información numérica de la muestra. Para esto, se toman muestras aleatorias de datos de una población, que luego se utilizan para hacer inferencias y predicciones sobre dicha población. \n",
        "\n",
        "Por medio de la estadística inferencial podremos:\n",
        "1. Estimar parámetros de la población con confianza.\n",
        "2. Probar teorías sobre parámetros de la población.\n"
      ]
    },
    {
      "cell_type": "markdown",
      "metadata": {
        "id": "9Z-u0asqSJS9"
      },
      "source": [
        "Para realizar este tipo de análisis estadísticos avanzados usando *Python* usaremos principalmente dos librerías especializadas: **`scipy`** y **`statsmodels`**.\n",
        "\n",
        "<img src=\"https://github.com/scipy/scipy.org/blob/main/static/images/logo.svg?raw=true\" alt=\"scipy\" width=\"15%\">\n",
        "<img src=\"https://www.statsmodels.org/stable/_images/statsmodels-logo-v2-horizontal.svg\" alt=\"statsmodels\" width=\"45%\">"
      ]
    },
    {
      "cell_type": "code",
      "metadata": {
        "id": "V3wRdctX8zjR"
      },
      "source": [
        "from scipy import stats\n",
        "import scipy\n",
        "import statsmodels.api as sm"
      ],
      "execution_count": null,
      "outputs": []
    },
    {
      "cell_type": "code",
      "metadata": {
        "id": "b4XQA3OMRiGj"
      },
      "source": [
        "# Otras librerías de utilidad.\n",
        "\n",
        "import numpy as np\n",
        "import pandas as pd\n",
        "import matplotlib  # Matplotlib se verá en los recursos de la Unidad 4.\n",
        "import matplotlib.pyplot as plt\n",
        "%matplotlib inline"
      ],
      "execution_count": null,
      "outputs": []
    },
    {
      "cell_type": "code",
      "metadata": {
        "id": "YIRLOqN-hwtg"
      },
      "source": [
        "# Para verificar las versiones de las librerías\n",
        "\n",
        "!python --version\n",
        "print('SciPy', scipy.__version__)\n",
        "print('statsmodels', sm.__version__)\n",
        "print('Pandas', pd.__version__)\n",
        "print('NumPy', np.__version__)\n",
        "print('Matplotlib', matplotlib.__version__)"
      ],
      "execution_count": null,
      "outputs": []
    },
    {
      "cell_type": "markdown",
      "metadata": {
        "id": "LhUQVgwdiH6U"
      },
      "source": [
        "**Versiones utilizadas:**\n",
        "\n",
        "\n",
        "\n",
        "*   **`Python`**: 3.6.9\n",
        "*   **`SciPy`**: 1.4.1\n",
        "*   **`statsmodels`**: 0.10.2 \n",
        "*   **`Pandas`**: 1.1.5\n",
        "*   **`NumPy`**: 1.19.5\n",
        "*   **`Matplotlib`**: 3.2.2\n",
        "\n",
        "\n"
      ]
    },
    {
      "cell_type": "markdown",
      "metadata": {
        "id": "yIn3I2-yO3q3"
      },
      "source": [
        "## **1. Intervalos de confianza**\n",
        "---\n",
        "\n",
        "Cuando queremos estimar un parámetro de la población, como la media, debemos asumir inevitablemente la existencia de un error de muestreo. Si la distribución de nuestros datos cumple ciertas propiedades, es posible estimar con alta probabilidad un margen de error para el valor estimado que calculamos. Para esto, nos basamos en los conceptos de **confianza y significancia estadística**.\n",
        "\n",
        "En esta guía se presentarán los fundamentos a tener en cuenta para entender los intervalos de confianza, y se presentará cómo calcular intervalos de confianza sobre la media de una población y sobre proporciones (porcentajes) de una población."
      ]
    },
    {
      "cell_type": "markdown",
      "metadata": {
        "id": "PUeZRxouJ9bZ"
      },
      "source": [
        "### **1.1. Fundamentos de intervalos de confianza**\n",
        "---\n",
        "Los **intervalos de confianza** son un rango calculado o un límite alrededor de un parámetro o una estadística que está soportado matemáticamente con un cierto nivel de confianza, por ejemplo, $95\\%$ ($\\beta = 95\\%$). \n",
        "\n",
        "<img src = \"https://drive.google.com/uc?export=view&id=1fVowPhl8VVr4GCIFKxgsa1OKlThtHZuv\" alt = \"Confianza y significancia\" width = \"80%\">  </img>\n",
        "\n",
        "Hay que tener cuidado para **interpretar correctamente** un intervalo de confianza. Un intervalo de confianza del $95\\%$ **NO significa** que tenemos un $95\\%$ de probabilidad de que la verdadera media (o proporción) de la población esté dentro de nuestro intervalo de confianza. Lo que **realmente significa** es que, si repitiéramos el proceso de muestreo, el $95\\%$ de nuestros intervalos de confianza calculados contendrían la verdadera media (o proporción) de la población."
      ]
    },
    {
      "cell_type": "markdown",
      "metadata": {
        "id": "hEAN2ppAOEnE"
      },
      "source": [
        "#### **1.1.1. ¿Cómo calcular un intervalo de confianza?**\n",
        "---\n",
        "\n",
        "Para obtener el intervalo de confianza debemos calcular la siguiente ecuación:\n",
        "\n",
        "**$$Estimación\\ del\\ parámetro\\ \\pm Margen\\ de\\ error$$**"
      ]
    },
    {
      "cell_type": "markdown",
      "metadata": {
        "id": "6CDDebdcIzrl"
      },
      "source": [
        "**Estimación del parámetro**\n",
        "\n",
        "---\n",
        "\n",
        "Al realizar estimaciones, sólo podemos obtener el que consideramos el mejor estimado que nos es posible obtener a partir de una muestra. Generalmente este valor difiere del valor real, por lo que no se puede afirmar que representa a toda la población sin antes intentar identificar qué tanto se puede alejar del valor real. En muchas ocasiones, el mejor estimado posible proviene del cálculo de valores con la información de una muestra reducida. \n",
        "\n",
        "Asumiendo que el diseño de muestreo nos permitió obtener una muestra aleatoria libre de sesgo, el mejor estimado posible corresponde a la **media de la muestra x̄ o la proporción de la muestra (*p*)**, entre otros parámetros estimados que están por fuera del alcance de esta guía. "
      ]
    },
    {
      "cell_type": "markdown",
      "metadata": {
        "id": "u2-Uu2IlRigg"
      },
      "source": [
        "**Margen de error**\n",
        "\n",
        "---\n",
        "\n",
        "\n",
        "El margen de error del intervalo de confianza que calculamos depende del valor de confianza y de la distribución de muestreo. Con esto podemos calcular el margen de error, que se entiende como \"unos pocos\" errores estándar con respecto al parámetro. El **margen de error**  se puede calcular así:\n",
        "\n",
        "$$Margen\\ de\\ error\\ = Multiplicador\\ * Error\\ Estándar $$\n",
        "\n",
        "Donde:\n",
        "* El *multiplicador* representa la cantidad de errores estándar desde los que se puede tener el nivel de confianza definido. Su cálculo depende de la distribución de muestreo. Por ejemplo, para una distribución normal estándar (*z*) con un nivel de confianza del $95\\%$ el multiplicador será $1.960$. Estos valores se obtienen tradicionalmente con tablas estadísticas con los valores precalculados.\n",
        "* El *error estándar* depende del tipo de parámetro a estimar **(media o proporción)**. El error estándar estimado puede encontrarse de manera aproximada a partir de la muestra. A continuación se muestra cómo se calcula en cada caso:\n",
        "\n",
        "$$Error\\ estándar\\ de\\ una\\ media\\ de\\ la\\ población\\  = \\frac{s}{\\sqrt{n}}$$\n",
        "\n",
        "$$Error\\ estándar\\ de\\ una\\ proporción\\ de\\ la\\ población\\ = \\sqrt{\\frac{p\\ (1 - p)}{n}}$$\n",
        " \n",
        "Donde: \n",
        "   * $s$ es la desviación estándar de la muestra.\n",
        "   * $p$ es la proporción de la muestra.\n",
        "   * $n$ es el número de observaciones en la muestra."
      ]
    },
    {
      "cell_type": "markdown",
      "metadata": {
        "id": "WXzz7pDpuf2x"
      },
      "source": [
        "### **1.2. Intervalo de confianza de una media**\n",
        "---\n",
        "\n",
        "A continuación, a manera de ejemplo, vamos a trabajar con datos ficticios que ejemplifican el procedimiento que se realizaría con una muestra real.\n",
        "\n",
        "Suponga que deseamos calcular el promedio de horas de estudio autónomo que dedican los estudiantes de los cursos virtuales de educación continua de la Universidad Nacional de Colombia. Para esto, se realiza una encuesta a una muestra aleatoria de $30$ estudiantes **($n=30$)**, quienes informaron el tiempo estimado que dedican a esta actividad cada semana.\n",
        "\n",
        "Los datos recolectados se presentan a continuación:\n"
      ]
    },
    {
      "cell_type": "code",
      "metadata": {
        "id": "BxCubP9ZX-NA"
      },
      "source": [
        "# Tiempo de estudio autónomo (en horas) \n",
        "tiempo_estudio = np.array([5.4, 5.7, 6.5, 5. , 5.2, 6. , 9. , 9.8, 8.2, 7. , \n",
        "                           6.7, 5.6, 5.4, 6.9, 8.8, 4.5, 8.8, 8.6, 7.6, 6.4, \n",
        "                           7.9, 4.9, 6.5, 8.9, 5.9, 9.1, 8.4, 6.6, 6.8, 5.6])"
      ],
      "execution_count": null,
      "outputs": []
    },
    {
      "cell_type": "code",
      "metadata": {
        "id": "maiu3rdOWYaC"
      },
      "source": [
        "# n es el número de observaciones en la muestra\n",
        "n = len(tiempo_estudio)\n",
        "\n",
        "n"
      ],
      "execution_count": null,
      "outputs": []
    },
    {
      "cell_type": "markdown",
      "metadata": {
        "id": "ebi2TFvMjH0i"
      },
      "source": [
        "En este punto, podemos hacer el desarrollo analítico para calcular el intervalo de confianza, o simplemente, podemos usar la librería **`statsmodels`** que se encarga de hacerlo por nosotros. Veamos las dos opciones."
      ]
    },
    {
      "cell_type": "markdown",
      "metadata": {
        "id": "9AP6Ma25a45h"
      },
      "source": [
        "**I. Método analítico**:\n",
        "***\n",
        "\n",
        "Procedemos a calcular el intervalo de confianza:\n",
        "\n",
        "\n",
        "\n",
        "\n",
        "**$$Estimación\\ del\\ parámetro\\ \\pm Margen\\ de\\ error$$**\n",
        "\n",
        "La *estimación del parámetro* es igual a la media de la muestra x̄."
      ]
    },
    {
      "cell_type": "code",
      "metadata": {
        "id": "hBdMWnqGw7SQ"
      },
      "source": [
        "media = tiempo_estudio.mean()\n",
        "print(media)"
      ],
      "execution_count": null,
      "outputs": []
    },
    {
      "cell_type": "markdown",
      "metadata": {
        "id": "I4rPBCr1cgz1"
      },
      "source": [
        "El *margen de error* se calcula así:\n",
        "$$Margen\\ de\\ error\\ = Multiplicador\\ * \\frac{s}{\\sqrt{n}}$$\n",
        "\n",
        "Siendo $s$ la desviación estándar de la muestra y $n$ el número de estudiantes (observaciones) en la muestra. Para conocer el *multiplicador*, definimos un **nivel de confianza del 95%**. En este caso, como desconocemos parámetros reales de la población, y teniendo en cuenta que el tamaño de la muestra es pequeño, podemos utilizar los multiplicadores definidos por la _**Distribución t de Student**_. Los grados de libertad corresponden a $29$, uno menos que el tamaño de la muestra ($n - 1$). El multiplicador apropiado se obtiene tradicionalmente de tablas estadísticas con los valores apropiados para cada distribución. En *Python* podemos usar la funcionalidad del módulo **`stats`** de *SciPy* que permite emular la utilidad de estas tablas, con las **funciones de punto porcentual** de cada distribución apropiada. En este caso usaremos el módulo **`scipy.stats.t`** que corresponde a la distribución t de *Student*.\n",
        "\n",
        "Dado que se tiene un valor de significancia $\\alpha$ del $5\\%$, tenemos un valor de $2.5\\%$ de significancia a cada lado del estimado. Usamos el cuantil correspondiente a alguna de estas dos esquinas ($0.025$ o $0.975$) para evaluar el valor del **estadístico t**.\n",
        "\n",
        "<img src = \"https://drive.google.com/uc?export=view&id=1BADipaL2omPaQirJk5SsNIxYejRzXPY3\" alt = \"Confianza y significancia ejemplo\" width = \"80%\">  </img>\n",
        "\n",
        "El valor de la esquina inferior genera un estadístico negativo, por lo que optamos por obtener el valor de la esquina superior. Este está definido por la siguiente fórmula:\n",
        "\n",
        "$$t^* = 1 - \\frac{\\alpha}{2}$$\n",
        "\n"
      ]
    },
    {
      "cell_type": "code",
      "metadata": {
        "id": "NpCFJyCidg1v"
      },
      "source": [
        "# Distribución t-student\n",
        "# Grados de libertad: n-1 = 29\n",
        "# Nivel de confianza: 95% \n",
        "\n",
        "multiplicador_t = 2.045  # Extraído de una tabla estadística.\n",
        "print(multiplicador_t)"
      ],
      "execution_count": null,
      "outputs": []
    },
    {
      "cell_type": "markdown",
      "metadata": {
        "id": "Fz8x-KajZeM1"
      },
      "source": [
        "Ahora, usando el módulo **`scipy.t.stats`** y el método **`ppf`**:"
      ]
    },
    {
      "cell_type": "code",
      "metadata": {
        "id": "q7v9cWspESK4"
      },
      "source": [
        "def get_multiplicador_t(significancia=0.05, grados=10):\n",
        "  \"\"\"\n",
        "  Retorna el multiplicador t dado un nivel de significancia de entrada alfa\n",
        "  (por defecto 0.05) y los grados de libertad.\n",
        "\n",
        "  Retorna\n",
        "  -------\n",
        "  tval : float : Valor crítico t.\n",
        "  \"\"\"\n",
        "  tval = stats.t.ppf(1 - significancia / 2.0, grados)\n",
        "\n",
        "  return tval "
      ],
      "execution_count": null,
      "outputs": []
    },
    {
      "cell_type": "code",
      "metadata": {
        "id": "bVYJeOE9IQHc"
      },
      "source": [
        "# Significancia = 1 - Nivel de confianza: 1 - 0.95 = 0.05 \n",
        "# Grados de libertad: n - 1 = 29\n",
        "multiplicador_t = get_multiplicador_t(0.05, 29)\n",
        "print(multiplicador_t)"
      ],
      "execution_count": null,
      "outputs": []
    },
    {
      "cell_type": "markdown",
      "metadata": {
        "id": "VJqHVDfXeOP2"
      },
      "source": [
        "Ahora calculamos el error estándar: $$\\frac{s}{\\sqrt{n}}$$"
      ]
    },
    {
      "cell_type": "markdown",
      "metadata": {
        "id": "qPjtrIEnf0zg"
      },
      "source": [
        "**Opción 1:** Podemos hacer el cálculo a partir de la fórmula. "
      ]
    },
    {
      "cell_type": "code",
      "metadata": {
        "id": "IFTaTuoscviY"
      },
      "source": [
        "# Tamaño y desviación estándar de la muestra\n",
        "n = len(tiempo_estudio)\n",
        "s = tiempo_estudio.std(ddof = 1) # ddof = Grados de libertad a corregir por el sesgo.\n",
        "\n",
        "n, s"
      ],
      "execution_count": null,
      "outputs": []
    },
    {
      "cell_type": "code",
      "metadata": {
        "id": "rhUiOdA6eYGY"
      },
      "source": [
        "error_std = s / np.sqrt(n)\n",
        "print(error_std)"
      ],
      "execution_count": null,
      "outputs": []
    },
    {
      "cell_type": "markdown",
      "metadata": {
        "id": "s6GHhyOYgBYb"
      },
      "source": [
        "**Opción 2:** Podemos llamar a la función [**`sem`**](https://docs.scipy.org/doc/scipy/reference/generated/scipy.stats.sem.html) del módulo **`stats`** de la librería SciPy.\n"
      ]
    },
    {
      "cell_type": "code",
      "metadata": {
        "id": "SL5nllscfQoI"
      },
      "source": [
        "stats.sem(tiempo_estudio)"
      ],
      "execution_count": null,
      "outputs": []
    },
    {
      "cell_type": "markdown",
      "metadata": {
        "id": "wYJ1NCllfKst"
      },
      "source": [
        "En ambos casos el resultado es el mismo.\n",
        "\n",
        "Finalmente, construimos el intervalo de confianza:"
      ]
    },
    {
      "cell_type": "code",
      "metadata": {
        "id": "QSTOxeHquhwV"
      },
      "source": [
        "limite_inferior = media - multiplicador_t * error_std\n",
        "limite_superior = media + multiplicador_t * error_std\n",
        "\n",
        "intervalo = (limite_inferior, limite_superior)\n",
        "\n",
        "intervalo"
      ],
      "execution_count": null,
      "outputs": []
    },
    {
      "cell_type": "markdown",
      "metadata": {
        "id": "FUc4aCixh584"
      },
      "source": [
        "**Interpretación:** De esta manera, podemos afirmar con un nivel de confianza del $95\\%$, que el tiempo medio de estudio autónomo que dedican los estudiantes de los cursos virtuales de educación continua de la Universidad Nacional de Colombia se encuentra entre $6.36$ y $7.48$ horas semanales.\n"
      ]
    },
    {
      "cell_type": "markdown",
      "metadata": {
        "id": "QTbB6QRcj73_"
      },
      "source": [
        "**II. Usando `statsmodels`**:\n",
        "***\n",
        "\n",
        "\n",
        "Las funciones **`tconfint_mean`** y **`zconfint_mean`** se encargan de construir los intervalos de confianza directamente para las distribuciones **T de Student** y **Normal estándar**, respectivamente. Ambos métodos reciben como parámetro la significancia estadística ($\\alpha$), la cual es igual a $1 - \\beta$. En nuestro caso, como el nivel de confianza ($\\beta$) es del $95\\%$, entonces $\\alpha = 0.05$. Este es el valor por defecto con el que trabajan los métodos mencionados.\n",
        "\n",
        "> **Ver la documentación oficial:**\n",
        "  * [statsmodels.stats.weightstats.DescrStatsW.tconfint_mean](https://www.statsmodels.org/stable/generated/statsmodels.stats.weightstats.DescrStatsW.tconfint_mean.html)\n",
        "  * [statsmodels.stats.weightstats.DescrStatsW.zconfint_mean](https://www.statsmodels.org/stable/generated/statsmodels.stats.weightstats.DescrStatsW.zconfint_mean.html)\n",
        "\n",
        "Para construir el intervalo de confianza de nuestro ejemplo bastaría con hacer el llamado a la función **`tconfint_mean`** directamente con nuestros datos recolectados (**`tiempo_estudio`**). Así:"
      ]
    },
    {
      "cell_type": "code",
      "metadata": {
        "id": "q4fO2-NPuhwW"
      },
      "source": [
        "limite_inferior, limite_superior = sm.stats.DescrStatsW(tiempo_estudio).tconfint_mean(alpha = 0.05)\n",
        "\n",
        "intervalo = (limite_inferior, limite_superior)\n",
        "print(intervalo)"
      ],
      "execution_count": null,
      "outputs": []
    },
    {
      "cell_type": "markdown",
      "metadata": {
        "id": "LbrJZcMHmYyU"
      },
      "source": [
        "**Interpretación:** El resultado es el mismo que antes. Con un nivel de confianza del $95\\%$, que el tiempo de estudio autónomo que dedican los estudiantes de los cursos virtuales de educación continua de la Universidad Nacional de Colombia se encuentra entre $6.36$ y $7.48$ horas semanales."
      ]
    },
    {
      "cell_type": "markdown",
      "metadata": {
        "id": "uPmOtDFeWbby"
      },
      "source": [
        "### **1.3. Intervalo de confianza de una proporción**\n",
        "---\n",
        "\n",
        "En este caso también vamos a trabajar con datos ficticios a manera de ejemplo.\n",
        "\n",
        "Suponga que deseamos conocer:\n",
        "\n",
        " >**¿Qué proporción de todos los dueños de perros en la ciudad de Bogotá han usado alguna vez un hotel para su mascota?**\n",
        "\n",
        "Para esto, se realiza una muestra de esta población con 650 dueños de perros en la ciudad de Bogotá ($n = 650$). Un total de $290$ ($44.6\\%$) de ellos manifiesta que alguna vez ha usado un hotel para su mascota. Se desea estimar con un nivel de confianza del $95\\%$ el intervalo de confianza de la proporción de los dueños de perros de la ciudad de Bogotá que han usado alguna vez un hotel para su mascota."
      ]
    },
    {
      "cell_type": "markdown",
      "metadata": {
        "id": "wqtC3yuzwUYu"
      },
      "source": [
        "**I. Método analítico**\n",
        "***\n",
        "Procedemos a calcular el intervalo de confianza:\n",
        "\n",
        "\n",
        "\n",
        "\n",
        "**$$Estimación\\ del\\ parámetro\\ \\pm Margen\\ de\\ error$$**\n",
        "\n",
        "La *estimación del parámetro* es igual a la proporción de la muestra *p*."
      ]
    },
    {
      "cell_type": "code",
      "metadata": {
        "id": "3smSf4sGwUYv"
      },
      "source": [
        "p = 0.446 # La proporción se expresa en valores de 0 a 1, lo que equivale al 44.6%\n",
        "print(p)"
      ],
      "execution_count": null,
      "outputs": []
    },
    {
      "cell_type": "markdown",
      "metadata": {
        "id": "fchEO7M7wUYz"
      },
      "source": [
        "El *margen de error* para la proporción se calcula así:\n",
        "$$Margen\\ de\\ error\\ = Multiplicador\\ * \\sqrt{\\frac{p\\ (1 - p)}{n}}$$\n",
        "\n",
        "Siendo $p$ la proporción de la muestra y $n$ el número de participantes. Con un **nivel de confianza del $95\\%$** para conocer el *multiplicador*, se asume una distribución normal de los datos teniendo en cuenta que el tamaño de la muestra es grande. Por lo tanto, consultando en las tablas de la ***distribución normal z*** vemos que el *multiplicador* apropiado es $1.960$."
      ]
    },
    {
      "cell_type": "code",
      "metadata": {
        "id": "MBTpIAxkwUY0"
      },
      "source": [
        "# Distribución Normal\n",
        "# Nivel de confianza: 95% \n",
        "\n",
        "multiplicador_z = 1.960\n",
        "\n",
        "multiplicador_z"
      ],
      "execution_count": null,
      "outputs": []
    },
    {
      "cell_type": "markdown",
      "metadata": {
        "id": "7yfHLDdTlOtJ"
      },
      "source": [
        "Al igual que antes podemos usar el módulo **`scipy.stats`** para calcular el valor requerido. Para esto, usamos el módulo **`scipy.stats.normal`**, cuyos valores por defecto coinciden con la distribución normal estándar."
      ]
    },
    {
      "cell_type": "code",
      "metadata": {
        "id": "bTeIb6pokwU_"
      },
      "source": [
        "# Podemos usar stats.norm.ppf para evaluar el multiplicador.\n",
        "\n",
        "significancia = 0.05\n",
        "multiplicador_z = stats.norm.ppf(1 - significancia/2)\n",
        "\n",
        "multiplicador_z"
      ],
      "execution_count": null,
      "outputs": []
    },
    {
      "cell_type": "markdown",
      "metadata": {
        "id": "gY1dCReOGJa7"
      },
      "source": [
        "Como se mencionó antes, el tamaño de la muestra es de $650$ encuestados."
      ]
    },
    {
      "cell_type": "code",
      "metadata": {
        "id": "4Q53NE9Sxi1q"
      },
      "source": [
        "n = 650\n",
        "\n",
        "n"
      ],
      "execution_count": null,
      "outputs": []
    },
    {
      "cell_type": "markdown",
      "metadata": {
        "id": "n36ZHL1PwUY3"
      },
      "source": [
        "Con estos datos calculamos el error estándar: $$\\sqrt{\\frac{p\\ (1 - p)}{n}}$$"
      ]
    },
    {
      "cell_type": "code",
      "metadata": {
        "id": "cV1MbbfBwUY3"
      },
      "source": [
        "error_std = np.sqrt((p * (1-p)) / n)\n",
        "\n",
        "error_std"
      ],
      "execution_count": null,
      "outputs": []
    },
    {
      "cell_type": "markdown",
      "metadata": {
        "id": "iWKhTHGuwUY7"
      },
      "source": [
        "Finalmente, construimos el intervalo de confianza:"
      ]
    },
    {
      "cell_type": "code",
      "metadata": {
        "id": "ev6kXD6iwUY7"
      },
      "source": [
        "limite_inferior = p - multiplicador_z * error_std\n",
        "limite_superior = p + multiplicador_z * error_std\n",
        "intervalo = (limite_inferior, limite_superior)\n",
        "print(intervalo)"
      ],
      "execution_count": null,
      "outputs": []
    },
    {
      "cell_type": "markdown",
      "metadata": {
        "id": "dZ63w_hlwUY8"
      },
      "source": [
        "**Interpretación:** De esta manera, podemos afirmar con un nivel de confianza del $95\\%$, que la proporción de todos los dueños de perros en la ciudad de Bogotá que ha usado alguna vez un hotel para su mascota está entre el $40.78\\%$ y el $48.42\\%$.\n"
      ]
    },
    {
      "cell_type": "markdown",
      "metadata": {
        "id": "p210savGwUY9"
      },
      "source": [
        "**II. Usando `statsmodels`**\n",
        "***\n",
        "\n",
        "Las funciones **`proportion_confint`** se encarga de construir el intervalos de confianza de la proporción de la población. \n",
        "\n",
        "> **Ver la documentación oficial:**\n",
        "  * [statsmodels.stats.proportion.proportion_confint](https://www.statsmodels.org/stable/generated/statsmodels.stats.proportion.proportion_confint.html)\n",
        "\n",
        "Para construir el intervalo de confianza de nuestro ejemplo bastaría con hacer el llamado a la función **`proportion_confint`** directamente con el número de casos exitosos ($n \\times p = 650 \\times 0.446 = 290$) y el tamaño de la muestra ($n = 650$)."
      ]
    },
    {
      "cell_type": "code",
      "metadata": {
        "id": "3_f4aBZwwUY9"
      },
      "source": [
        "limite_inferior, limite_superior = sm.stats.proportion_confint(n * p, n)\n",
        "intervalo = (limite_inferior, limite_superior)\n",
        "print(intervalo)"
      ],
      "execution_count": null,
      "outputs": []
    },
    {
      "cell_type": "markdown",
      "metadata": {
        "id": "axgE1oKCwUZA"
      },
      "source": [
        "El resultado es el mismo que antes. Con un nivel de confianza del $95\\%$, la proporción de todos los dueños de perros en la ciudad de Bogotá que ha usado alguna vez un hotel para su mascota está entre el $40.78\\%$ y el $48.42\\%$."
      ]
    },
    {
      "cell_type": "markdown",
      "metadata": {
        "id": "T9aRgQCjO8lf"
      },
      "source": [
        "## **2. Tests de hipótesis**\n",
        "---\n",
        "\n",
        "Una **prueba o *test* de hipótesis** es un método estadístico que puede ser usado para tomar decisiones sobre conjuntos de datos experimentales basándose en una suposición o **hipótesis** que formulamos sobre los parámetros reales de la población. A diferencia del enfoque de intervalos de confianza, las pruebas de hipótesis no pretenden hacer cálculos estimados, sino validar resultados o cambios significativos en los datos.\n",
        "\n",
        "En esta guía se presentarán los fundamentos a tener en cuenta para entender los test de hipótesis, y se presentará cómo llevar a cabo diferentes tipos de pruebas de hipótesis estadísticas con *Python*."
      ]
    },
    {
      "cell_type": "markdown",
      "metadata": {
        "id": "n8Knn-1gyzyt"
      },
      "source": [
        "### **2.1. Fundamentos de *test* de hipótesis**\n",
        "---\n",
        "\n",
        "La prueba de hipótesis es básicamente una suposición que hacemos sobre los parámetros de la población, y queremos verificar si los datos soportan esa suposición o no, con un nivel determinado de significancia estadística."
      ]
    },
    {
      "cell_type": "markdown",
      "metadata": {
        "id": "5iJ21dLyiJHw"
      },
      "source": [
        "#### **2.1.1. Hipótesis nula ($H_0$) e hipótesis alternativa ($H_a$)**\n",
        "---\n",
        "\n",
        "Antes de llevar a cabo una prueba estadística, es necesario formular dos hipótesis iniciales mutuamente excluyentes sobre la población para determinar qué hipótesis está mejor soportada por los datos.\n"
      ]
    },
    {
      "cell_type": "markdown",
      "metadata": {
        "id": "0lwmmzyXjEQI"
      },
      "source": [
        "**Hipótesis Nula ($H_0$)**: Es una afirmación general o una posición por defecto que indica que no hay relación medible entre dos fenómenos. En otras palabras, la hipótesis nula implica que no existe una diferencia significativa en el parámetro que decidimos evaluar, y que la observación que queremos probar no es suficientemente inusual. **La hipótesis nula no se puede probar ni desmentir, sólo se puede hallar evidencia que sugiera su rechazo en favor de la hipótesis alternativa**."
      ]
    },
    {
      "cell_type": "markdown",
      "metadata": {
        "id": "ZDQV5Pfx5LRW"
      },
      "source": [
        "**Hipótesis alternativa ($H_a$)**: Es la hipótesis que es contraria a la hipótesis nula. Es el efecto que estamos intentando verificar. Su aprobación se da cuando los datos muestran que hay evidencia significativa que sugiere el rechazo de la hipótesis nula. No se puede garantizar su veracidad, pero se puede minimizar el error con el nivel de confianza definido."
      ]
    },
    {
      "cell_type": "markdown",
      "metadata": {
        "id": "lM_CqDlmlm0-"
      },
      "source": [
        "<img src = \"https://drive.google.com/uc?export=view&id=13v9XgUUuCvW44R5o7_5WGZfBzJb8QiTH\" alt = \"Confianza y significancia\" width = \"80%\">  </img>"
      ]
    },
    {
      "cell_type": "markdown",
      "metadata": {
        "id": "N0KvxD036To_"
      },
      "source": [
        "#### **2.1.2. Tipos de error**\n",
        "---\n",
        "\n",
        "A pesar de tener un nivel de confianza alto, es posible cometer errores al  rechazar (o no) una hipótesis. Para esto, es necesario considerar los posibles errores que se pueden cometer e incluso orientar nuestro análisis a minimizar su impacto.\n",
        "\n",
        "| | Evidencia real que apoya $H_0$ | Evidencia real  que apoya $H_a$ |\n",
        "|-----------------|------------------------------------------------------------------------------------------------------------------------------------------------------------------------------------------------------------------------------------------------------------------------------------------|----------------------------------------------------------------------------------------------------------------------------------------------------------------------------------------------------------------------------------------------------------------------------------------------------------------------|\n",
        "| **No rechazar $H_0$** | Decisión correcta (No rechazar $H_0$) | **Error Tipo II**: Falso Negativo |\n",
        "| **Rechazar $H_0$** | **Error Tipo I**: Falso Positivo | Decisión correcta (Rechazar $H_0$) |\n",
        "\n",
        "\n",
        "* **Error Tipo I: Falso Positivo**. Este error se manifiesta si decidimos rechazar la hipótesis nula  y elegir la hipótesis alternativa, cuando la evidencia real soporta la hipótesis nula. Este error ocurre cuando se acepta algo para lo cual los datos no arrojan suficiente evidencia. \n",
        "\n",
        "* **Error Tipo II: Falso Negativo**. Este error se manifiesta si decidimos no rechazar la hipótesis nula, y no apoyar la hipótesis alternativa, cuando la evidencia real soporta el rechazo de la hipótesis nula. Este error ocurre cuando se rechaza algo para lo que los datos arrojan suficiente evidencia."
      ]
    },
    {
      "cell_type": "markdown",
      "metadata": {
        "id": "aXynCJvU4yBz"
      },
      "source": [
        "#### **2.1.3.  Nivel de significancia**\n",
        "---\n",
        "\n",
        "Es el grado de _significancia_ en el que rechazamos (o no) la hipótesis nula. Generalmente se selecciona un nivel de significancia para la prueba (típicamente $\\alpha = 5\\% = 0.05$), lo que significa que su resultado tendrá $95\\%$ de confianza ($\\beta = 1 - \\alpha = 1 - 0.05 = 0.95$)."
      ]
    },
    {
      "cell_type": "markdown",
      "metadata": {
        "id": "o-3rXzTiAsgw"
      },
      "source": [
        "#### **2.1.4. p-valor**\n",
        "---\n",
        "El **p-valor** de una observación (o estimación) es la probabilidad de encontrar los resultados observados, o más alejados de la media, si la hipótesis nula fuera aceptada. Se obtiene a partir de la función de densidad de probabilidad de una distribución, en donde los valores más alejados tienen menor probabilidad de ocurrir. Usamos el p-valor para rechazar o no una hipótesis nula, y optar por la hipótesis alternativa.\n",
        "\n",
        "Si su p-valor es menor que el nivel de significancia seleccionado entonces usted rechaza la hipótesis nula, i.e., aceptar que su muestra da una evidencia razonable para soportar la hipótesis alternativa. Es decir si, $p\\leq \\alpha$, rechazamos $H_0$, de lo contrario, con $p > \\alpha$, no rechazamos $H_0$.\n"
      ]
    },
    {
      "cell_type": "markdown",
      "metadata": {
        "id": "El7Is3OHA-z8"
      },
      "source": [
        "#### **2.1.5. Pruebas de una o dos colas**\n",
        "---\n",
        "\n",
        "Hay varias maneras de plantear nuestras hipótesis, de manera que permitan validar un cambio significativo en la variable. Esto se consigue decidiendo colas de la distribución en donde se encontraría una observación significativa. Estas son:\n",
        "\n",
        "* **Cola inferior**: Es usada cuando queremos probar si un parámetro ha disminuido significativamente. La hipótesis nula representa el escenario en el que el valor permanece igual o incluso mayor a lo observado inicialmente.\n",
        "\n",
        "<img src = \"https://drive.google.com/uc?export=view&id=1cDY1ZYT-faN-daEveryQQd-AOJg8MnOn\" alt = \"Confianza y significancia\" width = \"60%\">  </img>\n",
        "\n",
        "* **Cola superior**: Es usada cuando queremos probar si un parámetro ha aumentado significativamente. La hipótesis nula representa el escenario en el que el valor permanece igual o incluso menor a lo observado inicialmente.\n",
        "\n",
        "<img src = \"https://drive.google.com/uc?export=view&id=1kKcfCGs8uyaNLZlUHEzAT9cY8Gw02WNU\" alt = \"Confianza y significancia\" width = \"60%\">  </img>\n",
        "\n",
        "* **Dos colas**: Es usada cuando queremos probar si un parámetro ha tenido algún cambio significativo en cualquier dirección, es decir, si es diferente. La hipótesis nula representa el escenario en el que el valor permanece igual a lo observado inicialmente.\n",
        "\n",
        "<img src = \"https://drive.google.com/uc?export=view&id=1aoth_XuwPBs8p3ZkrFYgLjCWRDjEzBrp\" alt = \"Confianza y significancia\" width = \"60%\">  </img>"
      ]
    },
    {
      "cell_type": "markdown",
      "metadata": {
        "id": "hGXEdVEmBnAL"
      },
      "source": [
        "#### **2.1.6. Interpretación**\n",
        "---\n",
        "\n",
        "Debido al error de muestreo, no podemos garantizar que nuestro resultado es correcto, pues no conocemos todos los detalles de la población. Sin embargo, si asumimos que los datos de la población siguen una distribución normal, podemos determinar la probabilidad de que un hallazgo se produzca por causa de la aleatoriedad. Para evitar sacar conclusiones que puedan haber sido causadas por la aleatoriedad de los datos, comparamos el *p-valor* con el nivel de significancia ($\\alpha$). Cuando el *p-valor* de una observación es menor que el valor $\\alpha$ de significancia, podemos optar por rechazar la hipótesis nula con confianza.\n",
        "\n",
        "El *p-valor* es usado frecuentemente para evaluar la fortaleza de la evidencia contra la hipótesis nula sin hacer referencia al nivel de significancia.\n",
        "\n",
        "|  $p\\text{-value}$   |Evidencia contra $H_0$|\n",
        "|------------|----------------------|\n",
        "|$p > 0.10$| Débil o sin evidencia|\n",
        "|$0.05 < p \\leq 0.10$| Evidencia moderada|\n",
        "|$0.01 < p \\leq 0.05$| Evidencia fuerte|\n",
        "|$p\\leq 0.01$| Evidencia muy fuerte|\n",
        "\n",
        "A continuación se presentan ejemplos de uso de algunas de las pruebas estadísticas más comunes."
      ]
    },
    {
      "cell_type": "markdown",
      "metadata": {
        "id": "CCOb-F_wLztI"
      },
      "source": [
        "### **2.2. Prueba Z: ejemplos de aplicación**\n",
        "---"
      ]
    },
    {
      "cell_type": "markdown",
      "metadata": {
        "id": "UHWkv0AiMjuY"
      },
      "source": [
        "La prueba Z o *z-test* es una de las pruebas estadísticas más comunes. Se utiliza cuando:\n",
        "\n",
        "* El tamaño de la muestra es mayor a $30$ ($n \\gt 30$). De lo contrario, se usa normalmente una prueba *t*.\n",
        "* Los ejemplos (observaciones) de la muestra son independientes entre sí.\n",
        "* Los datos tienen una distribución normal.\n",
        "* La muestra se seleccionó aleatoriamente.\n"
      ]
    },
    {
      "cell_type": "markdown",
      "metadata": {
        "id": "5pmTxGuYOILN"
      },
      "source": [
        "La fórmula general para calcular el estadístico $z$ o $t$ se podría resumir así:\n",
        "\n",
        "$$estadístico  = \\frac{Mejor\\ Estimaci\\acute{o}n - Estimaci\\acute{o}n\\ Hipot\\acute{e}tica}{Error\\ Est\\acute{a}ndar\\ de\\ la\\ Estimaci\\acute{o}n}$$ \n",
        "\n",
        "A continuación se presentan algunos ejemplos donde se calcula un valor estadístico y un *p-valor* para una prueba de hipótesis sobre:\n",
        "* La media de una población.\n",
        "* Una proporción de la población.\n",
        "* Diferencia en las medias poblacionales de dos grupos independientes.\n"
      ]
    },
    {
      "cell_type": "markdown",
      "metadata": {
        "id": "k5z2IMklOILd"
      },
      "source": [
        "#### **2.2.1. Ejemplo 1: teoría sobre la media de la población**\n",
        "---\n",
        "\n",
        "_Datos ficticios con fines demostrativos._\n",
        "\n",
        "Gracias a un estudio masivo que se hizo en el año 2000 en la ciudad de Bogotá, sabemos que el promedio de peso de los hombres que residen en la ciudad en un rango de edad entre los $35$ y los $40$ años es de $70$ Kg ($\\mu = 70$). Se desea probar si actualmente ese promedio se ha incrementado debido a algunas razones que se estudiarán más a fondo en el futuro relacionados con los nuevos hábitos alimenticios de esta población. Por esto, se realiza una muestra aleatoria con $40$ participantes con las mismas características del estudio original ($n = 40$). Nivel de significancia $5\\%$ ($\\alpha = 0.05$)."
      ]
    },
    {
      "cell_type": "code",
      "metadata": {
        "id": "4bFZw1utZOEg"
      },
      "source": [
        "peso_promedio_poblacion = 70    # Conocido del estudio del año 2000\n",
        "n = 40                          # Tamaño de la muestra en el estudio actual\n",
        "alpha = 0.05                    # Nivel de significancia"
      ],
      "execution_count": null,
      "outputs": []
    },
    {
      "cell_type": "markdown",
      "metadata": {
        "id": "iKzP-XKKbij7"
      },
      "source": [
        "**Hipótesis**:\n",
        "\n",
        "* Hipótesis nula $H_0: \\mu = 70$\n",
        "* Hipótesis alternativa $H_a: \\mu \\gt 70$\n"
      ]
    },
    {
      "cell_type": "markdown",
      "metadata": {
        "id": "J-HLUTCUZgfh"
      },
      "source": [
        "Los pesos de los participantes son los siguientes:"
      ]
    },
    {
      "cell_type": "code",
      "metadata": {
        "id": "g6jPbqRuZhsY"
      },
      "source": [
        "# Generamos la muestra artificialmente a manera de ejemplo\n",
        "\n",
        "# Se utiliza una semilla de números aleatorios para que los resultados sean reproducibles\n",
        "np.random.seed(121) \n",
        "\n",
        "# Se generan los datos de la muestra (de 40 participantes) con una distribución normal\n",
        "muestra = np.random.normal(loc=74, scale=8, size=n) # Datos centrados en 74 con desv estándar de 8 aprox.\n",
        "print(np.round(muestra,1))"
      ],
      "execution_count": null,
      "outputs": []
    },
    {
      "cell_type": "markdown",
      "metadata": {
        "id": "aTkKRyWyam3P"
      },
      "source": [
        "**I. Método analítico**: \n",
        "***\n",
        "Calculamos la media y la desviación estándar de la muestra:"
      ]
    },
    {
      "cell_type": "code",
      "metadata": {
        "id": "VWbdEQGeZe6P"
      },
      "source": [
        "peso_promedio_muestra = muestra.mean()\n",
        "desv_est_muestra = muestra.std(ddof = 1)\n",
        "\n",
        "print(f\"Peso promedio de los participantes: {peso_promedio_muestra}\")\n",
        "print(f\"Desviación estándar de la muestra: {desv_est_muestra}\")"
      ],
      "execution_count": null,
      "outputs": []
    },
    {
      "cell_type": "markdown",
      "metadata": {
        "id": "6c1zAuECL1GO"
      },
      "source": [
        "Calculamos el error estándar estimado de la media:\n",
        "\n",
        "$$\n",
        "Error\\ Estándar\\ = \\frac{s}{\\sqrt{n}}\n",
        "$$\n",
        "\n",
        "Donde $s$ es la desviación estándar de la muestra y $n$ es el tamaño de la muestra. "
      ]
    },
    {
      "cell_type": "code",
      "metadata": {
        "id": "Ja5dXImML1GO"
      },
      "source": [
        "error_std = desv_est_muestra / np.sqrt(n)\n",
        "print(error_std)"
      ],
      "execution_count": null,
      "outputs": []
    },
    {
      "cell_type": "markdown",
      "metadata": {
        "id": "22BWa7dDL1GQ"
      },
      "source": [
        "Calculamos a cuántos errores estándar de distancia está el peso medio de la muestra en la actualidad con respecto al peso promedio del estudio del año 2000. El resultado se expresa como el estadístico *z-score* mediante la siguiente fórmula:\n",
        "\n",
        "$$\n",
        "z = \\frac{\\bar{x}_{actual}-\\mu}{Error\\ Estándar}\n",
        "$$"
      ]
    },
    {
      "cell_type": "code",
      "metadata": {
        "id": "rphs6kqVL1GQ"
      },
      "source": [
        "estadistico_z_score = (peso_promedio_muestra - peso_promedio_poblacion) / error_std\n",
        "estadistico_z_score"
      ],
      "execution_count": null,
      "outputs": []
    },
    {
      "cell_type": "markdown",
      "metadata": {
        "id": "tFewHGUoL1GY"
      },
      "source": [
        "Podemos calcular la probabilidad de seleccionar aleatoriamente una muestra con una media más grande que la media de la muestra en la actualidad. Para esto,  calculamos el área bajo la curva a la derecha del *z-score* de la media muestral sobre una distribución normal estándar usando el método de *SciPy* **`stats.norm.cdf`**:"
      ]
    },
    {
      "cell_type": "code",
      "metadata": {
        "id": "1m7vbLlbL1GY"
      },
      "source": [
        "p_valor = 1 - stats.norm.cdf(estadistico_z_score) # Prueba de una cola\n",
        "print(p_valor)"
      ],
      "execution_count": null,
      "outputs": []
    },
    {
      "cell_type": "markdown",
      "metadata": {
        "id": "3uB09x5OL1Ga"
      },
      "source": [
        "Como el *p-valor* es menor que $\\alpha = 0.05$ (nivel de significancia), tenemos suficiente evidencia para rechazar la hipótesis nula, y por lo tanto, apoyar la hipótesis alternativa. De esta forma, podemos concluir que el peso promedio de los hombres que residen en la ciudad de Bogotá en un rango de edad entre los $35$ y los $40$ años es mayor que $70$ Kg. \n",
        "\n",
        "> $pvalor \\lt \\alpha$\n",
        "\n",
        ">  $0.0106 \\lt 0.05$\n",
        "\n",
        "**Se rechaza $H_0$ y se apoya $H_a$ ($\\mu \\gt 70$).**"
      ]
    },
    {
      "cell_type": "markdown",
      "metadata": {
        "id": "dPfVDZqohWuz"
      },
      "source": [
        "**II. Usando `statsmodels`**\n",
        "***\n",
        "\n",
        "La función **`ztest`** se encarga de realizar el test estadístico y retorna el estadístico *z-score* y el *p-valor*. \n",
        "\n",
        "> **Ver la documentación oficial:**\n",
        "  * [statsmodels.stats.weightstats.ztest](https://www.statsmodels.org/stable/generated/statsmodels.stats.weightstats.ztest.html)\n",
        "\n",
        "Se llama la función con los datos de la muestra, el valor de la hipótesis nula y la hipótesis alternativa (en este caso, para una prueba de cola superior: **\"larger\"**). Así:"
      ]
    },
    {
      "cell_type": "code",
      "metadata": {
        "id": "Uv7MLPwrL1Gd"
      },
      "source": [
        "z_score, p_valor = sm.stats.ztest(muestra, \n",
        "                                  value = peso_promedio_poblacion, \n",
        "                                  alternative = \"larger\")\n",
        "\n",
        "print(f\"Estadístico: {z_score}\\np-valor: {p_valor}\")"
      ],
      "execution_count": null,
      "outputs": []
    },
    {
      "cell_type": "markdown",
      "metadata": {
        "id": "ZeOale1Uid_o"
      },
      "source": [
        "De esta forma podemos llegar a la misma conclusión. Como el *p-valor* es menor que $\\alpha = 0.05$ (nivel de significancia), tenemos suficiente evidencia para rechazar la hipótesis nula, y por lo tanto, apoyar la hipótesis alternativa. Podemos concluir que el peso promedio de los hombres que residen en la ciudad de Bogotá en un rango de edad entre los $35$ y los $40$ años es mayor que $70$ Kg. "
      ]
    },
    {
      "cell_type": "markdown",
      "metadata": {
        "id": "z_yo5YU2knPS"
      },
      "source": [
        "#### **2.2.2. Ejemplo 2: teoría sobre una proporción de la población**\n",
        "---\n",
        "\n",
        "_Datos ficticios con fines demostrativos._\n",
        "\n",
        "En años anteriores el $52\\%$ de los padres colombianos creían que el uso de dispositivos electrónicos y redes sociales eran la causa de la falta de sueño de su hijo adolescente (de 13 a 18 años). ¿Ha aumentado esta proporción en la actualidad?\n",
        "\n",
        "* **Población**: Padres colombianos con un hijo adolescente (Entre 13 y 18 años)\n",
        "* **Parámetro de interés:** $p$"
      ]
    },
    {
      "cell_type": "code",
      "metadata": {
        "id": "c-IRWewDknPU"
      },
      "source": [
        "proporcion_poblacion = 0.52  # Conocido del estudio anterior\n",
        "alpha = 0.05 # Nivel de significancia"
      ],
      "execution_count": null,
      "outputs": []
    },
    {
      "cell_type": "markdown",
      "metadata": {
        "id": "dPcbXIlbknPW"
      },
      "source": [
        "**Hipótesis**:\n",
        "\n",
        "* Hipótesis nula $H_0: p = 0.52$\n",
        "* Hipótesis alternativa $H_a: p \\gt 0.52$\n"
      ]
    },
    {
      "cell_type": "markdown",
      "metadata": {
        "id": "MzjJB4bZn8og"
      },
      "source": [
        "Se tomó una muestra aleatoria de $1018$ padres colombianos con un hijo adolescente. El $56\\%$ dijo que creía que el uso de dispositivos electrónicos y redes sociales eran la causa de la falta de sueño de su hijo adolescente ($\\hat{p}$)."
      ]
    },
    {
      "cell_type": "code",
      "metadata": {
        "id": "yiGjT66On_dO"
      },
      "source": [
        "n = 1018     # Tamaño de la muestra en el estudio actual"
      ],
      "execution_count": null,
      "outputs": []
    },
    {
      "cell_type": "markdown",
      "metadata": {
        "id": "XgUJBMlQknPa"
      },
      "source": [
        "**I. Método analítico**\n",
        "***\n",
        "La proporción obtenida en la muestra es:"
      ]
    },
    {
      "cell_type": "code",
      "metadata": {
        "id": "2mBzfUXspT7C"
      },
      "source": [
        "phat = 0.56"
      ],
      "execution_count": null,
      "outputs": []
    },
    {
      "cell_type": "markdown",
      "metadata": {
        "id": "VwJ6rhfcknPc"
      },
      "source": [
        "Calculamos el error estándar estimado de la proporción:\n",
        "\n",
        "$$\n",
        "Error\\ Est\\acute{a}ndar\\ = \\sqrt{\\frac{\\hat{p}\\ (1-\\hat{p})}{n}}\n",
        "$$\n",
        "\n",
        "Donde $\\hat{p}$ es la proporción de la muestra y $n$ es el tamaño de la muestra. "
      ]
    },
    {
      "cell_type": "code",
      "metadata": {
        "id": "hKCUK-oeknPc"
      },
      "source": [
        "error_std = np.sqrt((phat * (1 - phat)) / n)\n",
        "print(error_std)"
      ],
      "execution_count": null,
      "outputs": []
    },
    {
      "cell_type": "markdown",
      "metadata": {
        "id": "seCbSpxjknPe"
      },
      "source": [
        "Calculamos a cuántos errores estándar está el peso medio de la muestra en la actualidad con respecto al peso promedio del estudio del año 2000. El resultado se expresa como el estadístico *z-score* mediante la siguiente fórmula:\n",
        "\n",
        "$$\n",
        "z = \\frac{\\hat{p}_{actual}- p}{Error\\ Est\\acute{a}ndar}\n",
        "$$"
      ]
    },
    {
      "cell_type": "code",
      "metadata": {
        "id": "_dopCleqknPe"
      },
      "source": [
        "estadistico_z_score = (phat - proporcion_poblacion)/error_std\n",
        "estadistico_z_score"
      ],
      "execution_count": null,
      "outputs": []
    },
    {
      "cell_type": "markdown",
      "metadata": {
        "id": "5ngbNty8knPg"
      },
      "source": [
        "Podemos calcular la probabilidad de seleccionar aleatoriamente una muestra con una media más grande que la media de la muestra en la actualidad. Para esto,  calculamos el área bajo la curva a la derecha del z-score de la media muestral sobre una distribución normal estándar:"
      ]
    },
    {
      "cell_type": "code",
      "metadata": {
        "id": "WIB2ZkmdknPi"
      },
      "source": [
        "p_valor = 1 - stats.norm.cdf(estadistico_z_score) # Una cola.\n",
        "p_valor"
      ],
      "execution_count": null,
      "outputs": []
    },
    {
      "cell_type": "markdown",
      "metadata": {
        "id": "HznACg36knPk"
      },
      "source": [
        "Como el p-valor es menor que $\\alpha = 0.05$ (nivel de significancia), tenemos suficiente evidencia para rechazar la hipótesis nula, y por lo tanto, apoyar la hipótesis alternativa. De esta forma, podemos concluir que la proporción de los padres colombianos que creen que el uso de dispositivos electrónicos y redes sociales son la causa de la falta de sueño de su hijo adolescente (de 13 a 18 años) es mayor al $52\\%$. \n",
        "\n",
        "> $pvalor \\lt \\alpha$\n",
        "\n",
        "> $0.005 \\lt 0.05$\n",
        "\n",
        "**Se rechaza $H_0$ y se apoya $H_a$ ($p \\gt 52\\%$).**"
      ]
    },
    {
      "cell_type": "markdown",
      "metadata": {
        "id": "zpOF5td3knPk"
      },
      "source": [
        "**II. Usando `statsmodels`**\n",
        "***\n",
        "\n",
        "La función **`proportions_ztest`** se encarga de realizar el test estadístico y retorna el estadístico *z-score* y el *p-valor*. \n",
        "\n",
        "> **Ver la documentación oficial:**\n",
        "  * [statsmodels.stats.proportion.proportions_ztest](https://www.statsmodels.org/stable/generated/statsmodels.stats.proportion.proportions_ztest.html)\n",
        "\n",
        "Así:"
      ]
    },
    {
      "cell_type": "code",
      "metadata": {
        "id": "a0-thJ7IknPk"
      },
      "source": [
        "z_score, p_valor = sm.stats.proportions_ztest(phat * n,              # Cantidad de observaciones favorables. \n",
        "                                              n,                     # Tamaño de la muestra\n",
        "                                              proporcion_poblacion,  # Valor original\n",
        "                                              alternative='larger')\n",
        "\n",
        "print(f\"Estadístico: {z_score}\\np-valor: {p_valor}\")"
      ],
      "execution_count": null,
      "outputs": []
    },
    {
      "cell_type": "markdown",
      "metadata": {
        "id": "dIrUEBjoknPm"
      },
      "source": [
        "De esta forma, podemos llegar a la misma conclusión que mediante el método analítico."
      ]
    },
    {
      "cell_type": "markdown",
      "metadata": {
        "id": "OH9jLidIDLYG"
      },
      "source": [
        "#### **2.2.3. Ejemplo 3: teoría sobre la diferencia en las medias poblacionales de dos grupos independientes**\n",
        "---\n",
        "_Datos ficticios con fines demostrativos._\n",
        "\n",
        "La Dirección de Bienestar Universitario de la Universidad Nacional de Colombia desea saber si los estudiantes de último semestre del programa de Ingeniería de Sistemas y Computación tienen un índice de masa corporal (IMC) diferente a los estudiantes de primer semestre de la misma carrera. Para esto, se toman 2 muestras aleatorias: el primer grupo con las medidas de IMC de $50$ estudiantes de último semestre; y el segundo con los IMC de $52$ estudiantes de primer semestre.\n",
        "\n",
        "* $n_1 = 50$\n",
        "* $n_2 = 52$"
      ]
    },
    {
      "cell_type": "code",
      "metadata": {
        "id": "4hiwFZv1LH2A"
      },
      "source": [
        "n1 = 50\n",
        "n2 = 52"
      ],
      "execution_count": null,
      "outputs": []
    },
    {
      "cell_type": "markdown",
      "metadata": {
        "id": "ve_6MqkcMCNQ"
      },
      "source": [
        "Estos son los datos recolectados en el estudio:"
      ]
    },
    {
      "cell_type": "code",
      "metadata": {
        "id": "TwW-47W0MH_O"
      },
      "source": [
        "# IMC estudiantes de último semestre (grupo1)\n",
        "grupo1 = np.array([23.3, 23.2, 22.9, 23.1, 23.2, 24.7, 25.1, 23.9, 23.5, 24.1, \n",
        "                   25.2, 22.2, 23.9, 23.3, 24.9, 21.5, 22.7, 22.8, 23.6, 23.,\n",
        "                   24.,  24.1, 24.7, 24.3, 20.4, 24.7, 24.6, 24., 22.3, 21.6,\n",
        "                   24.,  23.9, 23.3, 23.6, 25.2, 24.5, 21.1, 23.4, 22.6, 21., \n",
        "                   24.6, 23.7, 24.2, 23.5, 22.1, 24., 23.8, 23.8, 22.6, 22.6])\n",
        "print(len(grupo1))"
      ],
      "execution_count": null,
      "outputs": []
    },
    {
      "cell_type": "code",
      "metadata": {
        "id": "3mB6-JoQMRv2"
      },
      "source": [
        "# IMC estudiantes de primer semestre (grupo2)\n",
        "grupo2 = np.array([23.9, 24.,  23.7, 23.6, 23.,  24.4, 23.7, 24.1, 23.,  22.3,\n",
        "                   21.6, 21.6, 23.7, 23.7, 22.3, 23.9, 22.1, 21.2, 22.4, 22.2, \n",
        "                   23.8, 22.1, 23.,  23.2, 23.,  20.7, 23.,  22.9, 24.8, 22.2,\n",
        "                   23.8, 24.5, 22.4, 23.6, 23.3, 22.9, 23.5, 23.8, 24.2, 24.3,\n",
        "                   21.3, 23.3, 24.2, 23.9, 21.6, 23.8, 23.,  24.3, 21.9, 23.3, \n",
        "                   22.1, 22.8])\n",
        "print(len(grupo2))"
      ],
      "execution_count": null,
      "outputs": []
    },
    {
      "cell_type": "markdown",
      "metadata": {
        "id": "UY9WknuON6yz"
      },
      "source": [
        "**Hipótesis**:\n",
        "\n",
        "* Hipótesis nula $H_0: \\mu_1 = \\mu_2$ ($\\mu_1 - \\mu_2 = 0$)\n",
        "* Hipótesis alternativa $H_a: \\mu_1 \\neq \\mu_2$ ($\\mu_1 - \\mu_2 \\neq 0$)\n"
      ]
    },
    {
      "cell_type": "markdown",
      "metadata": {
        "id": "-YXE5teyOi-Y"
      },
      "source": [
        "**I. Método analítico**\n",
        "***\n",
        "Calculamos la media y la desviación estándar de cada grupo:"
      ]
    },
    {
      "cell_type": "code",
      "metadata": {
        "id": "swm36h6NLlNK"
      },
      "source": [
        "# Valores muestrales del grupo 1\n",
        "\n",
        "media_grupo1 = grupo1.mean()\n",
        "des_grupo1 = grupo1.std(ddof = 1)\n",
        "\n",
        "(media_grupo1, des_grupo1)"
      ],
      "execution_count": null,
      "outputs": []
    },
    {
      "cell_type": "code",
      "metadata": {
        "id": "XsEbSXlZLu0J"
      },
      "source": [
        "# Valores muestrales del grupo 2\n",
        "\n",
        "media_grupo2 = grupo2.mean()\n",
        "des_grupo2 = grupo2.std(ddof = 1)\n",
        "\n",
        "(media_grupo2, des_grupo2)"
      ],
      "execution_count": null,
      "outputs": []
    },
    {
      "cell_type": "markdown",
      "metadata": {
        "id": "-p8ChHNXO3T_"
      },
      "source": [
        "Calculamos la diferencia entre las medias de ambos grupos (nuestra estimación):"
      ]
    },
    {
      "cell_type": "code",
      "metadata": {
        "id": "BEHBfXXjO9TE"
      },
      "source": [
        "dif = media_grupo1 - media_grupo2\n",
        "dif"
      ],
      "execution_count": null,
      "outputs": []
    },
    {
      "cell_type": "markdown",
      "metadata": {
        "id": "SKhgU6yYE7UH"
      },
      "source": [
        "A continuación calculamos el *Error Estándar* mediante la siguiente fórmula:\n",
        "\n",
        "$$Error\\ Estándar = \\sqrt{\\frac{(n_1-1)s_1^2 + (n_2-1)s_2^2}{n_1 + n_2 - 2}}\\times \\sqrt{\\frac{1}{n_1}+\\frac{1}{n_2}}$$"
      ]
    },
    {
      "cell_type": "code",
      "metadata": {
        "id": "G7Pe9z24E7q_"
      },
      "source": [
        "error_std = np.sqrt(((n1-1)*des_grupo1**2 + (n2-1)*des_grupo2**2) / (n1 + n2 - 2)) * np.sqrt((1/n1)+(1/n2))\n",
        "\n",
        "error_std"
      ],
      "execution_count": null,
      "outputs": []
    },
    {
      "cell_type": "markdown",
      "metadata": {
        "id": "c7d1Nem5QW7i"
      },
      "source": [
        "Ahora calculamos nuestro estadístico de test:\n",
        "\n",
        "$$\\frac{Mejor\\ Estimación\\ - Valor H_0}{Error\\ Estándar\\ Estimado} = \\frac{Dif\\ - 0}{Error\\ Estándar\\ Estimado}$$\n"
      ]
    },
    {
      "cell_type": "code",
      "metadata": {
        "id": "ESytmnGpFxOo"
      },
      "source": [
        "estadistico_z_score = dif / error_std\n",
        "\n",
        "estadistico_z_score"
      ],
      "execution_count": null,
      "outputs": []
    },
    {
      "cell_type": "markdown",
      "metadata": {
        "id": "Pl7dEOfpRFLB"
      },
      "source": [
        "Se calcula el *p-valor*, teniendo en cuenta que se trata de una prueba de dos colas ($H_a \\neq 0$):"
      ]
    },
    {
      "cell_type": "code",
      "metadata": {
        "id": "L-PfStlXE1KI"
      },
      "source": [
        "p_valor = (1 - stats.norm.cdf(estadistico_z_score)) * 2   # Dos colas\n",
        "print(p_valor) "
      ],
      "execution_count": null,
      "outputs": []
    },
    {
      "cell_type": "code",
      "metadata": {
        "id": "Hh7wcRjEH5eY"
      },
      "source": [
        "p_valor < 0.05"
      ],
      "execution_count": null,
      "outputs": []
    },
    {
      "cell_type": "markdown",
      "metadata": {
        "id": "2HjPb4oZRTmA"
      },
      "source": [
        "El p-valor no es menor al nivel de significancia (5\\%). **Por lo tanto, no hay evidencia suficiente para rechazar la hipótesis nula en favor de la hipótesis alternativa.** Esto significa que no hay evidencia que indique que los estudiantes de último semestre del programa de Ingeniería de Sistemas y Computación tienen un índice de masa corporal (IMC) diferente a los estudiantes de primer semestre de la misma carrera."
      ]
    },
    {
      "cell_type": "markdown",
      "metadata": {
        "id": "MhWKFbSuSCD0"
      },
      "source": [
        "**II. Usando `statsmodels`**\n",
        "***\n",
        "\n",
        "La función **`ztest`** se encarga de realizar el test estadístico y retorna el estadístico *z-score* y el *p-valor*. \n",
        "\n",
        "> **Ver la documentación oficial:**\n",
        "* [statsmodels.stats.weightstats.ztest](https://www.statsmodels.org/stable/generated/statsmodels.stats.weightstats.ztest.html)\n",
        "\n",
        "Se llama la función con los datos de la muestra, el valor de la hipótesis nula y la hipótesis alternativa (en este caso: \"*two-sided*\" porque es de dos colas). Así:"
      ]
    },
    {
      "cell_type": "code",
      "metadata": {
        "id": "Sa4XE2jCSCD1"
      },
      "source": [
        "z_score, p_valor = sm.stats.ztest(grupo1, grupo2,         # Las dos muestras\n",
        "                                  value=0,                # La dif=0 es la hipótesis nula\n",
        "                                  alternative='two-sided' # dos colas\n",
        "                                  )\n",
        "\n",
        "print(f\"Estadístico: {z_score}\\np-valor: {p_valor}\")"
      ],
      "execution_count": null,
      "outputs": []
    },
    {
      "cell_type": "markdown",
      "metadata": {
        "id": "bSsuc1L0SCD5"
      },
      "source": [
        "De esta forma podemos llegar a la misma conclusión. Como el *p-valor* **NO** es menor que $\\alpha = 0.05$ (nivel de significancia), no existe suficiente evidencia para rechazar la hipótesis nula."
      ]
    },
    {
      "cell_type": "markdown",
      "metadata": {
        "id": "rGKbdKmxL7Xm"
      },
      "source": [
        "### **2.3. Prueba t: ejemplos de aplicación**\n",
        "---\n",
        "Este tipo de prueba es usada para determinar si hay una diferencia significativa entre las medias de dos grupos que pueden estar relacionados en ciertas características. Se usa generalmente cuando el conjunto de datos sigue una distribución normal y podría tener varianzas desconocidas. También, cuando la cantidad de observaciones de la muestra es menor a $30$, se recomienda usar una *prueba t*.\n",
        "\n",
        "Hay varios tipos de [prueba t](https://en.wikipedia.org/wiki/Student's_t-test):\n",
        "* Prueba *t* de una muestra.\n",
        "* Prueba *t* de dos muestras independientes.\n",
        "* Prueba *t* de dos muestras relacionadas (o emparejadas).\n"
      ]
    },
    {
      "cell_type": "markdown",
      "metadata": {
        "id": "mQEeRADz222D"
      },
      "source": [
        "#### **2.3.1. Ejemplo 4: teoría sobre la media de la población**\n",
        "---\n",
        "\n",
        "> **Prueba t de una muestra**: Es una prueba paramétrica que determina si la media muestral es estadísticamente diferente de una muestra poblacional conocida o supuesta. \n",
        "\n",
        "_Datos ficticios con fines demostrativos._\n",
        "\n",
        "En este caso, se desea conocer si $31$ años, que es la media de la muestra, es una edad significativamente mayor que el promedio de la población que está en $30$ años. "
      ]
    },
    {
      "cell_type": "code",
      "metadata": {
        "id": "MXUZ_iw5526e"
      },
      "source": [
        "# Muestra de datos\n",
        "edades = [32, 34, 29, 29, 22, 39, 38, 37, 38, 36, 30, 26, 22, 22]\n",
        "\n",
        "edades"
      ],
      "execution_count": null,
      "outputs": []
    },
    {
      "cell_type": "code",
      "metadata": {
        "id": "DaceL1Xh9tq1"
      },
      "source": [
        "# Cálculo de la media de la muestra\n",
        "media_edad = np.mean(edades)\n",
        "\n",
        "media_edad"
      ],
      "execution_count": null,
      "outputs": []
    },
    {
      "cell_type": "markdown",
      "metadata": {
        "id": "CMySIpahDe8L"
      },
      "source": [
        "**Hipótesis**:\n",
        "\n",
        "* Hipótesis nula $H_0: \\mu = 30$\n",
        "* Hipótesis alternativa $H_a: \\mu \\gt 30$\n"
      ]
    },
    {
      "cell_type": "markdown",
      "metadata": {
        "id": "jDAweQ_uiAKg"
      },
      "source": [
        "La función **`ttest_1samp`** se encarga de realizar el test estadístico y retorna el estadístico score y el p-valor. \n",
        "\n",
        "> **Ver la documentación oficial:**\n",
        "  * [scipy.stats.ttest_1samp](https://docs.scipy.org/doc/scipy/reference/generated/scipy.stats.ttest_1samp.html)\n"
      ]
    },
    {
      "cell_type": "code",
      "metadata": {
        "id": "Cm1A8Y7G8YaN"
      },
      "source": [
        "# Ver la ayuda\n",
        "# Para ver la ayuda descomente esta línea\n",
        "#help(stats.ttest_1samp)"
      ],
      "execution_count": null,
      "outputs": []
    },
    {
      "cell_type": "code",
      "metadata": {
        "id": "HaXOFHURvDv0"
      },
      "source": [
        "# Usando SciPy\n",
        "\n",
        "test, p_valor = stats.ttest_1samp(edades, 30) # Dos colas\n",
        "print(f\"p-valor: {p_valor}\")\n",
        "\n",
        "if p_valor < 0.05:    # Significancia de 0.05 o 5%\n",
        "    print(\"Rechazamos la hipótesis nula\")\n",
        "else:\n",
        "    print(\"No rechazamos la hipótesis nula\")"
      ],
      "execution_count": null,
      "outputs": []
    },
    {
      "cell_type": "markdown",
      "metadata": {
        "id": "Exmr40NuUzRg"
      },
      "source": [
        "No existe evidencia suficiente para rechazar la hipótesis nula en favor de la hipótesis alternativa. Por lo tanto, no podemos afirmar que el promedio de edad de la muestra ($31$ años) es diferente del promedio de la población de manera significativa."
      ]
    },
    {
      "cell_type": "markdown",
      "metadata": {
        "id": "Dw8d6T_CV367"
      },
      "source": [
        "#### **2.3.2. Ejemplo 5: teoría sobre la diferencia en las medias poblacionales de dos grupos independientes**\n",
        "---\n",
        "\n",
        "> **Prueba t de dos muestras independientes**: También conocida como prueba de muestras independientes, la prueba t de *Student* es una prueba paramétrica que compara las medias de dos grupos independientes (no relacionados) para determinar si hay evidencia estadística de que las medias asociadas a la población son significativamente diferentes. \n",
        "\n",
        "\n",
        "_Datos ficticios con fines demostrativos._\n",
        "\n",
        "Se está implementando un método de enseñanza en una asignatura de pregrado, que se apoya en recursos interactivos para la explicación de conceptos teóricos. Se desea evaluar la efectividad de la nueva metodología, y para ello se diseña un experimento con dos grupos de $25$ estudiantes, de los cuales un grupo recibirá la clase con los recursos interactivos (grupo experimental) y el otro con la metodología tradicional (grupo control).  Se realiza el mismo tipo de evaluación en ambos grupos y se desea determinar si el grupo experimental obtuvo un rendimiento académico (calificación media) diferente al grupo de control.\n",
        "*  Nivel de confianza: $95\\%$."
      ]
    },
    {
      "cell_type": "code",
      "metadata": {
        "id": "xf3VwwNYZ3G1"
      },
      "source": [
        "n1 = 25\n",
        "n2 = 25"
      ],
      "execution_count": null,
      "outputs": []
    },
    {
      "cell_type": "markdown",
      "metadata": {
        "id": "L0nlnwpHDQIJ"
      },
      "source": [
        "**Hipótesis**:\n",
        "\n",
        "* Hipótesis nula $H_0: \\mu_1 = \\mu_2$ ($\\mu_1 - \\mu_2 = 0$)\n",
        "* Hipótesis alternativa $H_a: \\mu_1 \\neq \\mu_2$ ($\\mu_1 - \\mu_2 \\gt 0$)\n"
      ]
    },
    {
      "cell_type": "markdown",
      "metadata": {
        "id": "lxFusYC7__sk"
      },
      "source": [
        "Las calificaciones del grupo de control son las siguientes:"
      ]
    },
    {
      "cell_type": "code",
      "metadata": {
        "id": "gMiBAo58AfZN"
      },
      "source": [
        "grupo_control = np.array([3.5, 3.4, 3.1, 3.3, 3.4, \n",
        "                          4.9, 5.0, 4.1, 3.7, 4.3, \n",
        "                          5.0, 2.4, 4.1, 3.5, 5.0, \n",
        "                          1.7, 2.9, 3.0, 3.8, 3.2, \n",
        "                          4.2, 4.3, 4.9, 4.5, 0.6])"
      ],
      "execution_count": null,
      "outputs": []
    },
    {
      "cell_type": "markdown",
      "metadata": {
        "id": "Ch-_LX7bA2dt"
      },
      "source": [
        "Las calificaciones del grupo experimental son las siguientes:"
      ]
    },
    {
      "cell_type": "code",
      "metadata": {
        "id": "lT5cGG-zA6FB"
      },
      "source": [
        "grupo_exp = np.array([5.0, 5.0, 4.7, 3.5, 3.1, \n",
        "                      4.7, 4.7, 4.2, 4.5, 5.0, \n",
        "                      5.0, 2.7, 4.3, 3.7, 2.7, \n",
        "                      5.0, 4.6, 4.9, 4.4, 3.4, \n",
        "                      4.7, 4.6, 4.6, 3.7, 4.9])"
      ],
      "execution_count": null,
      "outputs": []
    },
    {
      "cell_type": "markdown",
      "metadata": {
        "id": "tFW2l_iaBZoV"
      },
      "source": [
        "Verificamos los promedios de ambos grupos:"
      ]
    },
    {
      "cell_type": "code",
      "metadata": {
        "id": "0MoNmqyNbVuB"
      },
      "source": [
        "media_control = grupo_control.mean()\n",
        "media_exp = grupo_exp.mean()\n",
        "\n",
        "print(media_control, media_exp)"
      ],
      "execution_count": null,
      "outputs": []
    },
    {
      "cell_type": "markdown",
      "metadata": {
        "id": "c4nxLYWhBpUc"
      },
      "source": [
        "**I. Usando `statsmodels`**\n",
        "***\n",
        "\n",
        "La función **`ttest_ind`** se encarga de realizar el test estadístico para dos muestras independientes. Retorna el estadístico *score* y el *p-valor*. \n",
        "\n",
        "> **Ver la documentación oficial:**\n",
        "  * [statsmodels.stats.weightstats.ttest_ind](https://www.statsmodels.org/stable/generated/statsmodels.stats.weightstats.ttest_ind.html)"
      ]
    },
    {
      "cell_type": "code",
      "metadata": {
        "id": "EX2-L2KbBszi"
      },
      "source": [
        "test, p_valor, df = sm.stats.ttest_ind(grupo_exp, grupo_control)\n",
        "print(test, p_valor)"
      ],
      "execution_count": null,
      "outputs": []
    },
    {
      "cell_type": "markdown",
      "metadata": {
        "id": "WiDt7udABtbF"
      },
      "source": [
        "**II. Usando `SciPy`**\n",
        "***\n",
        "\n",
        "La función **`ttest_ind`** se encarga de realizar el test estadístico para dos muestras independientes. Retorna el estadístico *score* y el *p-valor*. \n",
        "\n",
        "> **Ver la documentación oficial:**\n",
        "  * [scipy.stats.ttest_ind](https://docs.scipy.org/doc/scipy/reference/generated/scipy.stats.ttest_ind.html)"
      ]
    },
    {
      "cell_type": "code",
      "metadata": {
        "id": "uxDbDnKTcDRw"
      },
      "source": [
        "test, pvalor = stats.ttest_ind(grupo_exp, grupo_control)\n",
        "print(test, pvalor)"
      ],
      "execution_count": null,
      "outputs": []
    },
    {
      "cell_type": "markdown",
      "metadata": {
        "id": "yU_GefaNCK98"
      },
      "source": [
        "En ambos casos el p-valor es menor que el nivel de significancia del $5\\%$: para dos colas sería p-valor < 0.05 / 2."
      ]
    },
    {
      "cell_type": "code",
      "metadata": {
        "id": "UA82EHocdK54"
      },
      "source": [
        "pvalor < 0.025"
      ],
      "execution_count": null,
      "outputs": []
    },
    {
      "cell_type": "markdown",
      "metadata": {
        "id": "4ik1mJdyCUFx"
      },
      "source": [
        "Por lo tanto, rechazamos la hipótesis nula en favor de la hipótesis alternativa. Podemos afirmar que existe evidencia significativa en contra de la hipótesis nula de que la media del grupo experimental es igual al grupo de control, con $95\\%$ de nivel de confianza.\n"
      ]
    },
    {
      "cell_type": "markdown",
      "metadata": {
        "id": "cncttWYOdvWi"
      },
      "source": [
        "#### **2.3.3. Ejemplo 6: teoría sobre la diferencia en las medias poblacionales de dos grupos relacionados**\n",
        "---\n",
        "> **Prueba t de dos muestras relacionadas (emparejadas)**: En el caso en que las muestras sean del mismo grupo en instantes distintos se debe aplican una variación de la prueba t para grupos relacionados. Esta prueba también se conoce como prueba t de muestras emparejadas. Es una prueba paramétrica que compara las medias de dos grupos relacionados para determinar si hay evidencia estadística de que las medias asociadas son significativamente diferentes.\n",
        "\n",
        "_Datos ficticios con fines demostrativos._\n",
        "\n",
        "Se está implementando un método de enseñanza novedoso mediante técnicas de gamificación del aprendizaje en la asignatura Programación de Computadores en la UNAL. Se desea conocer el efecto que tiene este método sobre la motivación por aprender de los estudiantes. La motivación se puede cuantificar utilizando un instrumento de autoinforme en una escala ordinal de 1 (mínimo) a 7 (máximo) (como el conocido [MSLQ](https://upcommons.upc.edu/handle/2117/107554)). Se diseña un experimento con un único grupo de $27$ estudiantes ($n=27$), donde se les pide que diligencien el cuestionario de autoinforme para medir su motivación en dos momentos distintos:\n",
        "\n",
        "1. Antes de poner en marcha la novedosa estrategia de enseñanza (pre-test).\n",
        "2. Al final del experimento, después de utilizar la nueva estrategia de enseñanza durante 2 meses (post-test).\n",
        "\n",
        "Se desea conocer si hubo alguna diferencia significativa en la motivación de los estudiantes gracias a la intervención que se hizo. \n",
        "* Nivel de confianza: $95\\%$ (significancia: $5\\%$)."
      ]
    },
    {
      "cell_type": "code",
      "metadata": {
        "id": "ds-7kNR7EJhC"
      },
      "source": [
        "n = 27"
      ],
      "execution_count": null,
      "outputs": []
    },
    {
      "cell_type": "markdown",
      "metadata": {
        "id": "0YG3ujZNEJhF"
      },
      "source": [
        "**Hipótesis**:\n",
        "\n",
        "* Hipótesis nula $H_0: \\mu_{post} = \\mu_{pre}$ ($\\mu_{post} - \\mu_{pre} = 0$)\n",
        "* Hipótesis alternativa $H_a: \\mu_{post} \\neq \\mu_{pre}$ ($\\mu_{post} - \\mu_{pre} \\neq 0$)\n"
      ]
    },
    {
      "cell_type": "markdown",
      "metadata": {
        "id": "bL6KOURvEJhF"
      },
      "source": [
        "Los niveles de motivación de los estudiantes en el grupo antes de la intervención son las siguientes (pre-test):"
      ]
    },
    {
      "cell_type": "code",
      "metadata": {
        "id": "e9m6GxNgEJhG"
      },
      "source": [
        "pre_test = np.array([3, 6, 1, 5, 2, 5, 4, 1, 7,\n",
        "                     3, 7, 5, 5, 7, 4, 7, 2, 5, \n",
        "                     2, 4, 1, 7, 6, 2, 2, 4, 5])"
      ],
      "execution_count": null,
      "outputs": []
    },
    {
      "cell_type": "markdown",
      "metadata": {
        "id": "HOkmpciMEJhH"
      },
      "source": [
        "Los niveles de motivación en el grupo después de la intervención son las siguientes (post-test):"
      ]
    },
    {
      "cell_type": "code",
      "metadata": {
        "id": "0dB8lKbcEJhH"
      },
      "source": [
        "post_test = np.array([7, 6, 1, 4, 5, 3, 4, 5, 3, \n",
        "                      7, 7, 5, 7, 7, 7, 5, 5, 2, \n",
        "                      6, 5, 1, 5, 1, 2, 4, 5, 3])"
      ],
      "execution_count": null,
      "outputs": []
    },
    {
      "cell_type": "markdown",
      "metadata": {
        "id": "AJ10Hm6DEJhJ"
      },
      "source": [
        "Verificamos los promedios de ambos grupos:"
      ]
    },
    {
      "cell_type": "code",
      "metadata": {
        "id": "440dYyLIEJhJ"
      },
      "source": [
        "media_pre = pre_test.mean()\n",
        "media_post = post_test.mean()\n",
        "\n",
        "print(media_pre, media_post)"
      ],
      "execution_count": null,
      "outputs": []
    },
    {
      "cell_type": "markdown",
      "metadata": {
        "id": "aGaUxBOaEJhM"
      },
      "source": [
        "**I. Usando `SciPy`**:\n",
        "***\n",
        "\n",
        "La función **`ttest_rel`** se encarga de realizar el test estadístico para dos muestras emparejadas. Retorna el estadístico *score* y el *p-valor*. \n",
        "\n",
        "> **Ver la documentación oficial:**\n",
        "  * [scipy.stats.ttest_rel](https://docs.scipy.org/doc/scipy/reference/generated/scipy.stats.ttest_rel.html)"
      ]
    },
    {
      "cell_type": "code",
      "metadata": {
        "id": "7xZhnW-pEJhN"
      },
      "source": [
        "test, pvalor = stats.ttest_rel(pre_test, post_test)\n",
        "print(test, pvalor)"
      ],
      "execution_count": null,
      "outputs": []
    },
    {
      "cell_type": "code",
      "metadata": {
        "id": "O_gntdeNhntA"
      },
      "source": [
        "pvalor < 0.005    # Nivel de significancia "
      ],
      "execution_count": null,
      "outputs": []
    },
    {
      "cell_type": "markdown",
      "metadata": {
        "id": "02ejkwjsEJhO"
      },
      "source": [
        "En este caso, el *p-valor* no es menor al nivel de significancia ($5\\%$). Por lo tanto, **NO** podemos rechazar la hipótesis nula. Esto significa que aunque la media en la motivación de los estudiantes en el post-test ($4.5$) fue mayor a la media de la motivación en el pre-test ($4.15$) , esta diferencia no es significativa con un nivel de confianza del $95\\%$."
      ]
    },
    {
      "cell_type": "markdown",
      "metadata": {
        "id": "wEE_c_9WYn-z"
      },
      "source": [
        "## **3. Otras pruebas estadísticas**\n",
        "---\n",
        "\n",
        "En muchos casos para poder utilizar las diferentes pruebas estadísticas es necesario verificar los supuestos que deben cumplir las muestras de datos. Por ejemplo, que tengan una distrubución normal (normalidad), que tengan varianzas iguales (homocedasticidad), entre otros. Cuando las muestras no cumplen alguno de los supuestos esperados, se debe optar por **test no-paramétricos**. A continuación se presentan algunos ejemplos de estas pruebas estadísticas.\n",
        "\n",
        "Para el siguiente ejemplo usaremos el conjunto de datos de **Iris**, que contiene longitud y ancho del pétalo y el sépalo para $150$ flores de $3$ especies: *Iris-setosa*, *Iris-virginica* e *Iris-versicolor*. Para este ejercicio usaremos solo las muestras de las flores setosa y versicolor.\n"
      ]
    },
    {
      "cell_type": "code",
      "metadata": {
        "id": "o2XtImk5_IuA"
      },
      "source": [
        "iris = pd.read_csv('https://drive.google.com/uc?export=download&id=13s4o2kjNbavLm4N8mys33RUKuFmPQls9')\n",
        "iris.head()"
      ],
      "execution_count": null,
      "outputs": []
    },
    {
      "cell_type": "code",
      "metadata": {
        "id": "bwCzliuhxpoW"
      },
      "source": [
        "iris.describe()"
      ],
      "execution_count": null,
      "outputs": []
    },
    {
      "cell_type": "code",
      "metadata": {
        "id": "c262c6OyvoyU"
      },
      "source": [
        "# Seleccionamos los datos de dos especies de flor (Setosa y Versicolor)\n",
        "\n",
        "setosa = iris[(iris['label'] == 'Iris-setosa')]\n",
        "setosa.reset_index(inplace= True)\n",
        "\n",
        "setosa.head()"
      ],
      "execution_count": null,
      "outputs": []
    },
    {
      "cell_type": "code",
      "metadata": {
        "id": "pU-_kNFyQHgu"
      },
      "source": [
        "versicolor = iris[(iris['label'] == 'Iris-versicolor')]\n",
        "versicolor.reset_index(inplace= True)\n",
        "\n",
        "versicolor.head()"
      ],
      "execution_count": null,
      "outputs": []
    },
    {
      "cell_type": "markdown",
      "metadata": {
        "id": "nfEew1MnbJ_5"
      },
      "source": [
        "### **3.1 Prueba de normalidad**\n",
        "---\n",
        "\n",
        "La verificación de normalidad puede hacerse visualmente usando un gráfico [p-p](https://en.wikipedia.org/wiki/P%E2%80%93P_plot\n",
        ") o [q-q](https://en.wikipedia.org/wiki/Q%E2%80%93Q_plot),  o aplicando una prueba como la [prueba Shapiro-Wilk](https://docs.scipy.org/doc/scipy-0.19.0/reference/generated/scipy.stats.shapiro.html).\n",
        "\n",
        "\n"
      ]
    },
    {
      "cell_type": "markdown",
      "metadata": {
        "id": "te8tSIs6zqYN"
      },
      "source": [
        "#### **3.1.1. Gráfico Q-Q**\n",
        "---\n",
        "\n",
        "En este caso, construimos el gráfico Q-Q a partir de los datos del ancho del sépalo (`sepal_width`):"
      ]
    },
    {
      "cell_type": "markdown",
      "metadata": {
        "id": "dJeqicS8gKFE"
      },
      "source": [
        "Los puntos deben estar sobre la línea roja, si los puntos se distancian de la línea roja es un indicio de que hay desviación de normalidad. En este caso vemos que los datos mantienen normalidad.\n",
        "\n",
        "> **Ver la documentación oficial:**\n",
        "  * [scipy.stats.probplot](https://docs.scipy.org/doc/scipy/reference/generated/scipy.stats.probplot.html)"
      ]
    },
    {
      "cell_type": "code",
      "metadata": {
        "id": "XYm8o_n2YOr5"
      },
      "source": [
        "plt.figure(dpi = 110) # Mejoramos la visibilidad de la gráfica.\n",
        "stats.probplot(setosa['sepal_width'], plot= plt)\n",
        "plt.title('Gráfico Q-Q del ancho de sépalo') \n",
        "plt.show() "
      ],
      "execution_count": null,
      "outputs": []
    },
    {
      "cell_type": "markdown",
      "metadata": {
        "id": "JIPl_Yna36_o"
      },
      "source": [
        "Además, se puede obtener también mediante la función **`qqplot`** de **`statsmodels`** como se muestra a continuación. \n",
        "\n",
        "> **Ver la documentación oficial:**\n",
        "  * [statsmodels.graphics.gofplots.qqplot](https://www.statsmodels.org/stable/generated/statsmodels.graphics.gofplots.qqplot.html)"
      ]
    },
    {
      "cell_type": "code",
      "metadata": {
        "id": "o2OmRVWT4KbE"
      },
      "source": [
        "sm.qqplot(setosa['sepal_width'])     "
      ],
      "execution_count": null,
      "outputs": []
    },
    {
      "cell_type": "markdown",
      "metadata": {
        "id": "C7xkEzXdzm2r"
      },
      "source": [
        "#### **3.1.2. Prueba Shapiro-Wilk**\n",
        "---\n",
        "\n",
        "Es un test de normalidad muy conocido. El test de [*Shapiro-Wilk*](https://es.wikipedia.org/wiki/Test_de_Shapiro%E2%80%93Wilk) prueba la hipótesis nula de que los datos se obtuvieron de una distribución normal. Por ejemplo, si el nivel de significancia elegido es $\\alpha = 0.05$, y el *p-valor* es menor que $0.05$, entonces se rechaza la hipótesis nula en favor de la hipótesis alternativa, indicando que los datos no se distribuyen normalmente. Por el contrario, si el *p-valor* es mayor que $0.05$, entonces la hipótesis nula no se rechaza, indicando con confianza que los datos se obtuvieron a partir de una distribución normal."
      ]
    },
    {
      "cell_type": "code",
      "metadata": {
        "id": "9ubkt2iCYITF"
      },
      "source": [
        "stats.shapiro(setosa['sepal_width'])"
      ],
      "execution_count": null,
      "outputs": []
    },
    {
      "cell_type": "markdown",
      "metadata": {
        "id": "2aZxky6HRm_V"
      },
      "source": [
        "\n",
        "\n",
        "El primer valor corresponde al estadístico W y el segundo valor es el p-value. En este caso, el p-valor no es menor que $0.05$, lo que significa que no se rechaza la hipótesis nula, lo que nos indica que los datos están normalmente distribuidos."
      ]
    },
    {
      "cell_type": "markdown",
      "metadata": {
        "id": "-9eRFcdR5kQQ"
      },
      "source": [
        "#### **3.1.3. Otros tests de normalidad**\n",
        "* D’Agostino and Pearson’s test: [scipy.stats.normaltest](https://docs.scipy.org/doc/scipy/reference/generated/scipy.stats.normaltest.html)\n",
        "* Kolmogorov-Smirnov test: [scipy.stats.kstest](https://docs.scipy.org/doc/scipy/reference/generated/scipy.stats.kstest.html)\n"
      ]
    },
    {
      "cell_type": "markdown",
      "metadata": {
        "id": "v1o9seq2vt-b"
      },
      "source": [
        "### **3.2. Prueba de homocedasticidad de *Levene***\n",
        "---\n",
        "\n",
        "La prueba de [*Levene*](https://es.wikipedia.org/wiki/Prueba_de_Levene) para varianzas iguales prueba la hipótesis nula de que todas las muestras de entrada son de poblaciones con varianzas iguales. La prueba de *Levene* es una alternativa a la prueba de *Bartlett* en el caso de que haya desviaciones significativas de la normalidad.\n",
        "\n",
        "> **Ver la documentación oficial:**\n",
        "* [scipy.stats.levene](https://docs.scipy.org/doc/scipy/reference/generated/scipy.stats.levene.html)"
      ]
    },
    {
      "cell_type": "code",
      "metadata": {
        "id": "Hoz8ts3bYezv"
      },
      "source": [
        "stats.levene(setosa['sepal_width'], versicolor['sepal_width'])"
      ],
      "execution_count": null,
      "outputs": []
    },
    {
      "cell_type": "markdown",
      "metadata": {
        "id": "Vid6O3l4Z6x0"
      },
      "source": [
        "Como la prueba no es significante podemos concluir que hay homogeneidad de las varianzas de las dos muestras. No se rechaza la hipótesis nula."
      ]
    },
    {
      "cell_type": "markdown",
      "metadata": {
        "id": "cq4EO2w9v0-e"
      },
      "source": [
        "### **3.3. Pruebas no paramétricas**\n",
        "---"
      ]
    },
    {
      "cell_type": "markdown",
      "metadata": {
        "id": "mZiTarVKZI6u"
      },
      "source": [
        "Tanto *SciPy* como *statsmodels* cuentan con más pruebas estadísticas que pueden ser de interés pero que quedan por fuera del alcance de este material. Algunas de estas son:\n",
        "\n",
        "* Test de Mann-Whitney: [scipy.stats.mannwhitneyu](https://docs.scipy.org/doc/scipy/reference/generated/scipy.stats.mannwhitneyu.html)           \n",
        "* Test de Wilcoxon: [scipy.stats.wilcoxon](https://docs.scipy.org/doc/scipy/reference/generated/scipy.stats.wilcoxon.html)\n",
        "* Test de Kuskal-Wallis: [scipy.stats.kruskal](https://docs.scipy.org/doc/scipy/reference/generated/scipy.stats.kruskal.html)                          \n",
        "* Test de Friedman: [scipy.stats.friedmanchisquare](https://docs.scipy.org/doc/scipy/reference/generated/scipy.stats.friedmanchisquare.html)\n"
      ]
    },
    {
      "cell_type": "markdown",
      "metadata": {
        "id": "4r5hSQAz6d-g"
      },
      "source": [
        "## **Recursos adicionales**\n",
        "---\n",
        "\n",
        "Para profundizar mucho más, le recomendamos los siguientes recursos adicionales:\n",
        "\n",
        "*  [University of Michigan (Coursera) - Inferential Statistical Analysis with Python](https://www.coursera.org/learn/inferential-statistical-analysis-python)\n",
        "*  [San Jose State University (Udacity) - Statistics](https://www.udacity.com/course/statistics--st095)\n",
        "*  [Data Vedas - Inferential Statistics in *Python*](https://www.datavedas.com/inferential-statistics-in-python/)\n",
        "*  [Data Vedas - Hypothesis Testing](https://www.datavedas.com/inferential-statistics-in-python/)\n",
        "*  [Machine Learning Mastery - 17 Statistical Hypothesis Tests in Python (Cheat Sheet)](https://machinelearningmastery.com/statistical-hypothesis-tests-in-python-cheat-sheet/)\n",
        "*  [Paul Marr - Basical Statistical Test Flow Chart](https://webspace.ship.edu/pgmarr/Geo441/Statistical%20Test%20Flow%20Chart.pdf)\n",
        "*  [Ellen Marshall, The Statistics Tutor’s Quick Guide to Commonly Used Statistical Tests](http://www.statstutor.ac.uk/resources/uploaded/tutorsquickguidetostatistics.pdf)\n",
        "* [Chelsea Voss - Statistics Cheat Sheet](https://web.mit.edu/~csvoss/Public/usabo/stats_handout.pdf)\n",
        "* [Josh Lioi - Statistical Test Cheat Sheet](https://www.math.arizona.edu/~jlioi/Statistical%20Inference%20Reference%20Sheet.pdf)\n",
        "*  [statsmodels documentation](https://www.statsmodels.org/stable/index.html)\n",
        "*  [SciPy Statistical functions (scipy.stats)](https://docs.scipy.org/doc/scipy/reference/stats.html)\n",
        "\n",
        "\n"
      ]
    },
    {
      "cell_type": "markdown",
      "metadata": {
        "id": "z4VavQ3wgMGo"
      },
      "source": [
        "## **Créditos**\n",
        "---\n",
        "\n",
        "* **Profesor:** [Felipe Restrepo Calle](https://dis.unal.edu.co/~ferestrepoca/)\n",
        "* **Asistentes docentes:**\n",
        "  - Alberto Nicolai Romero Martínez\n",
        "  - Miguel Angel Ortiz Marín\n",
        "\n",
        "* **Asistentes docentes (pequeñas correcciones):**\n",
        "  - Joseph Alejandro Gallego Mejía\n",
        "\n",
        "* **Fe de erratas:**\n",
        " * Punto 2.3.2 es una prueba de dos colas, por lo que la significancia se debe dividir por 2 para compararlo con el p-valor. Se ajustó el material y se corrigió.\n",
        "\n",
        "\n",
        "**Universidad Nacional de Colombia** - *Facultad de Ingeniería*"
      ]
    }
  ]
}