{
  "nbformat": 4,
  "nbformat_minor": 0,
  "metadata": {
    "colab": {
      "provenance": [],
      "collapsed_sections": []
    },
    "kernelspec": {
      "name": "python3",
      "display_name": "Python 3"
    }
  },
  "cells": [
    {
      "cell_type": "markdown",
      "metadata": {
        "id": "fb9pUStUq6xf"
      },
      "source": [
        "<img src = \"https://drive.google.com/uc?export=view&id=1XIxF92v5BOrpS63i6FMIXGddxAp8WSHd\" alt = \"Encabezado MLDS\" width = \"100%\">  </img>"
      ]
    },
    {
      "cell_type": "markdown",
      "metadata": {
        "id": "iOBugjpzfKzI"
      },
      "source": [
        "#**Quiz 5 : Estadística inferencial con *Python***\n",
        "---\n",
        "\n",
        "Este es un quiz para practicar las habilidades adquiridas usando *Python* en estadística inferencial. Utilizaremos el [dataset 80 Cereals](https://www.kaggle.com/crawford/80-cereals) de *Kaggle*. Para esto, previamente hemos realizado un proceso de limpieza y traducción adecuado para el ejercicio.\n",
        "\n",
        "Este conjunto de datos cuenta con información nutricional de una muestra de 80 cereales:\n",
        "\n",
        "| Variable | Definición\t| Valores | \n",
        "| --- | --- | --- |\n",
        "| nombre | \tNombre del producto  | \tCadenas de texto |\n",
        "| fabricante \t| Nombre del fabricante | 'Kelloggs', 'Quaker Oats', 'General Mills', 'Nabisco', etc  |\n",
        "| calorias \t| Calorías por porción. \t| Numéricos |\n",
        "| proteina |\tGramos de proteína. \t|Numéricos |\n",
        "| grasa |\tGramos de grasas saturadas. \t| Numéricos|\n",
        "| sodio |\tMiligramos de sodio. \t|Numéricos |\n",
        "| fibra dietaria |\tGramos de fibra dietaria. \t| Numéricos|\n",
        "| carbohidratos |\tGramos de carbohidratos complejos. \t|Numéricos |\n",
        "| potasio |\tMiligramos de potasio. \t|Numéricos |\n",
        "| vitaminas y minerales |\tPorcentaje de vitaminas y minerales. \t|Numéricos |\n",
        "\n",
        "\n",
        "\n",
        "En este quiz usted debe realizar un proceso de análisis de datos con *Python* con el objetivo de practicar los conceptos y habilidades aprendidas de estadística inferencial.\n",
        "\n",
        "> **Nota:** Esta tarea va a ser calificada en la plataforma **[UNCode](https://juezun.github.io/)**. Para esto, en cada ejercicio se indicará si es calificable o no, también los lugares donde debe escribir su código sin modificar lo demás con un aproximado de cantidad de líneas a escribir. No se preocupe si su código toma más líneas, esto es simplemente un aproximado destinado a que pueda replantear su estrategia si el código está tomando más de las esperadas. No es un requisito estricto y soluciones más largas también son válidas. Al finalizar, para realizar el envío (*submission*), descargue el notebook como un archivo **`.ipynb`** y haga su entrega a través de la plataforma de aprendizaje."
      ]
    },
    {
      "cell_type": "markdown",
      "metadata": {
        "id": "DRzX-aD3pG6T"
      },
      "source": [
        "Ejecute la siguiente celda para importar las librerías."
      ]
    },
    {
      "cell_type": "code",
      "metadata": {
        "id": "PWxZydM4Lzk3"
      },
      "source": [
        "# Importar librerías\n",
        "import pandas as pd\n",
        "import numpy as np\n",
        "import scipy\n",
        "from scipy import stats\n",
        "import statsmodels.api as sm"
      ],
      "execution_count": null,
      "outputs": []
    },
    {
      "cell_type": "code",
      "metadata": {
        "id": "GEfXnD9mjd2V",
        "colab": {
          "base_uri": "https://localhost:8080/"
        },
        "outputId": "a3fcb924-d8f3-4ca4-b522-6f10756ce95d"
      },
      "source": [
        "#TEST_CELL\n",
        "!python --version\n",
        "print('Pandas', pd.__version__)\n",
        "print('NumPy', np.__version__)\n",
        "print('SciPy', scipy.__version__)\n",
        "print('statsmodels', sm.__version__)"
      ],
      "execution_count": null,
      "outputs": [
        {
          "output_type": "stream",
          "name": "stdout",
          "text": [
            "Python 3.7.14\n",
            "Pandas 1.3.5\n",
            "NumPy 1.21.6\n",
            "SciPy 1.7.3\n",
            "statsmodels 0.12.2\n"
          ]
        }
      ]
    },
    {
      "cell_type": "markdown",
      "metadata": {
        "id": "ROZNbg6fpLpu"
      },
      "source": [
        "Este material fue realizado con las siguientes versiones:\n",
        "\n",
        "- Python 3.6.9\n",
        "- Pandas: 1.1.5\n",
        "- NumPy: 1.19.5\n",
        "- SciPy: 1.4.1\n",
        "- statsmodels: 0.10.2\n",
        "\n",
        "\n",
        "> **Nota:** Recuerde usar los alias y convenciones de la celda anterior en su código. UNCode no tendrá en cuenta librerías que importe en otras celdas y podrían afectar el tiempo de ejecución de los problemas. Estas son:\n",
        "  *  **Pandas**: **`pd`**\n",
        "  *  **NumPy**: **`np`**\n",
        "  *  **SciPy stats**: **`stats`**\n",
        "  *  **statsmodels**: **`sm`**\n",
        "\n"
      ]
    },
    {
      "cell_type": "markdown",
      "metadata": {
        "id": "kYfn30XJ_aff"
      },
      "source": [
        "## **0.  Leer el archivo de datos**\n",
        "---\n",
        "> **IMPORTANTE:** \n",
        "\n",
        "  1. Por favor descargue el archivo con el conjunto de datos desde el siguiente enlace: **[cerealsquiz.csv](https://raw.githubusercontent.com/JuezUN/datasets/master/cerealsquiz.csv)**. \n",
        "  \n",
        "  2. En el enlace, haga clic derecho y seleccione la opción **\"Guardar como...\"**.\n",
        "\n",
        "  3. Cargue este archivo en su sistema de archivos de **Google Colaboratory**. Para hacer esto:\n",
        "    \n",
        "    * Haga clic donde aparece el icono del directorio en la parte izquierda de la ventana en *Google Colaboratory* (resaltado en azul en la siguiente imagen con el número 1).\n",
        "    * Después, haga clic en el icono **\"Subir\"** (resaltado en azul en la siguiente imagen con el número 2).\n",
        "    * Seleccione el archivo **`titanic.csv`** que previamente descargó y haga clic en **\"Aceptar\"**.\n",
        "\n",
        "<img src = \"https://drive.google.com/uc?export=view&id=13W59jfdOpAn_DYIjpXt4WPBZiU7BlRGY\" alt = \"Sistema archivos colab\" width = \"70%\">  </img>\n",
        "\n",
        "4. Ejecute la siguiente celda para cargar el conjunto de datos dentro del DataFrame de *pandas* llamado **`cereal_df`**:"
      ]
    },
    {
      "cell_type": "code",
      "metadata": {
        "id": "Y9F6G_l5pKOZ",
        "colab": {
          "base_uri": "https://localhost:8080/",
          "height": 206
        },
        "outputId": "1f4e6645-0b50-4240-84a7-b534e49f0646"
      },
      "source": [
        "### EJECUTAR ESTA CELDA SIN MODIFICARLA. SI FALLA, DEBE SEGUIR EL PROCEDIMIENTO DESCRITO ANTES.\n",
        "cereal_df = pd.read_csv('cerealsquiz.csv')\n",
        "cereal_df.head()"
      ],
      "execution_count": null,
      "outputs": [
        {
          "output_type": "execute_result",
          "data": {
            "text/plain": [
              "                      nombre      fabricante  calorias  proteina  grasa  \\\n",
              "0                  100%_Bran         Nabisco        70         4      1   \n",
              "1          100%_Natural_Bran     Quaker Oats       120         3      5   \n",
              "2                   All-Bran        Kelloggs        70         4      1   \n",
              "3  All-Bran_with_Extra_Fiber        Kelloggs        50         4      0   \n",
              "4             Almond_Delight  Ralston Purina       110         2      2   \n",
              "\n",
              "   sodio  fibra dietaria  carbohidratos  azúcar  potasio  \\\n",
              "0    130            10.0            5.0       6      280   \n",
              "1     15             2.0            8.0       8      135   \n",
              "2    260             9.0            7.0       5      320   \n",
              "3    140            14.0            8.0       0      330   \n",
              "4    200             1.0           14.0       8       -1   \n",
              "\n",
              "   vitaminas y minerales  \n",
              "0                     25  \n",
              "1                      0  \n",
              "2                     25  \n",
              "3                     25  \n",
              "4                     25  "
            ],
            "text/html": [
              "\n",
              "  <div id=\"df-0fe3f0fc-1537-46f7-b277-17ee1b9790fa\">\n",
              "    <div class=\"colab-df-container\">\n",
              "      <div>\n",
              "<style scoped>\n",
              "    .dataframe tbody tr th:only-of-type {\n",
              "        vertical-align: middle;\n",
              "    }\n",
              "\n",
              "    .dataframe tbody tr th {\n",
              "        vertical-align: top;\n",
              "    }\n",
              "\n",
              "    .dataframe thead th {\n",
              "        text-align: right;\n",
              "    }\n",
              "</style>\n",
              "<table border=\"1\" class=\"dataframe\">\n",
              "  <thead>\n",
              "    <tr style=\"text-align: right;\">\n",
              "      <th></th>\n",
              "      <th>nombre</th>\n",
              "      <th>fabricante</th>\n",
              "      <th>calorias</th>\n",
              "      <th>proteina</th>\n",
              "      <th>grasa</th>\n",
              "      <th>sodio</th>\n",
              "      <th>fibra dietaria</th>\n",
              "      <th>carbohidratos</th>\n",
              "      <th>azúcar</th>\n",
              "      <th>potasio</th>\n",
              "      <th>vitaminas y minerales</th>\n",
              "    </tr>\n",
              "  </thead>\n",
              "  <tbody>\n",
              "    <tr>\n",
              "      <th>0</th>\n",
              "      <td>100%_Bran</td>\n",
              "      <td>Nabisco</td>\n",
              "      <td>70</td>\n",
              "      <td>4</td>\n",
              "      <td>1</td>\n",
              "      <td>130</td>\n",
              "      <td>10.0</td>\n",
              "      <td>5.0</td>\n",
              "      <td>6</td>\n",
              "      <td>280</td>\n",
              "      <td>25</td>\n",
              "    </tr>\n",
              "    <tr>\n",
              "      <th>1</th>\n",
              "      <td>100%_Natural_Bran</td>\n",
              "      <td>Quaker Oats</td>\n",
              "      <td>120</td>\n",
              "      <td>3</td>\n",
              "      <td>5</td>\n",
              "      <td>15</td>\n",
              "      <td>2.0</td>\n",
              "      <td>8.0</td>\n",
              "      <td>8</td>\n",
              "      <td>135</td>\n",
              "      <td>0</td>\n",
              "    </tr>\n",
              "    <tr>\n",
              "      <th>2</th>\n",
              "      <td>All-Bran</td>\n",
              "      <td>Kelloggs</td>\n",
              "      <td>70</td>\n",
              "      <td>4</td>\n",
              "      <td>1</td>\n",
              "      <td>260</td>\n",
              "      <td>9.0</td>\n",
              "      <td>7.0</td>\n",
              "      <td>5</td>\n",
              "      <td>320</td>\n",
              "      <td>25</td>\n",
              "    </tr>\n",
              "    <tr>\n",
              "      <th>3</th>\n",
              "      <td>All-Bran_with_Extra_Fiber</td>\n",
              "      <td>Kelloggs</td>\n",
              "      <td>50</td>\n",
              "      <td>4</td>\n",
              "      <td>0</td>\n",
              "      <td>140</td>\n",
              "      <td>14.0</td>\n",
              "      <td>8.0</td>\n",
              "      <td>0</td>\n",
              "      <td>330</td>\n",
              "      <td>25</td>\n",
              "    </tr>\n",
              "    <tr>\n",
              "      <th>4</th>\n",
              "      <td>Almond_Delight</td>\n",
              "      <td>Ralston Purina</td>\n",
              "      <td>110</td>\n",
              "      <td>2</td>\n",
              "      <td>2</td>\n",
              "      <td>200</td>\n",
              "      <td>1.0</td>\n",
              "      <td>14.0</td>\n",
              "      <td>8</td>\n",
              "      <td>-1</td>\n",
              "      <td>25</td>\n",
              "    </tr>\n",
              "  </tbody>\n",
              "</table>\n",
              "</div>\n",
              "      <button class=\"colab-df-convert\" onclick=\"convertToInteractive('df-0fe3f0fc-1537-46f7-b277-17ee1b9790fa')\"\n",
              "              title=\"Convert this dataframe to an interactive table.\"\n",
              "              style=\"display:none;\">\n",
              "        \n",
              "  <svg xmlns=\"http://www.w3.org/2000/svg\" height=\"24px\"viewBox=\"0 0 24 24\"\n",
              "       width=\"24px\">\n",
              "    <path d=\"M0 0h24v24H0V0z\" fill=\"none\"/>\n",
              "    <path d=\"M18.56 5.44l.94 2.06.94-2.06 2.06-.94-2.06-.94-.94-2.06-.94 2.06-2.06.94zm-11 1L8.5 8.5l.94-2.06 2.06-.94-2.06-.94L8.5 2.5l-.94 2.06-2.06.94zm10 10l.94 2.06.94-2.06 2.06-.94-2.06-.94-.94-2.06-.94 2.06-2.06.94z\"/><path d=\"M17.41 7.96l-1.37-1.37c-.4-.4-.92-.59-1.43-.59-.52 0-1.04.2-1.43.59L10.3 9.45l-7.72 7.72c-.78.78-.78 2.05 0 2.83L4 21.41c.39.39.9.59 1.41.59.51 0 1.02-.2 1.41-.59l7.78-7.78 2.81-2.81c.8-.78.8-2.07 0-2.86zM5.41 20L4 18.59l7.72-7.72 1.47 1.35L5.41 20z\"/>\n",
              "  </svg>\n",
              "      </button>\n",
              "      \n",
              "  <style>\n",
              "    .colab-df-container {\n",
              "      display:flex;\n",
              "      flex-wrap:wrap;\n",
              "      gap: 12px;\n",
              "    }\n",
              "\n",
              "    .colab-df-convert {\n",
              "      background-color: #E8F0FE;\n",
              "      border: none;\n",
              "      border-radius: 50%;\n",
              "      cursor: pointer;\n",
              "      display: none;\n",
              "      fill: #1967D2;\n",
              "      height: 32px;\n",
              "      padding: 0 0 0 0;\n",
              "      width: 32px;\n",
              "    }\n",
              "\n",
              "    .colab-df-convert:hover {\n",
              "      background-color: #E2EBFA;\n",
              "      box-shadow: 0px 1px 2px rgba(60, 64, 67, 0.3), 0px 1px 3px 1px rgba(60, 64, 67, 0.15);\n",
              "      fill: #174EA6;\n",
              "    }\n",
              "\n",
              "    [theme=dark] .colab-df-convert {\n",
              "      background-color: #3B4455;\n",
              "      fill: #D2E3FC;\n",
              "    }\n",
              "\n",
              "    [theme=dark] .colab-df-convert:hover {\n",
              "      background-color: #434B5C;\n",
              "      box-shadow: 0px 1px 3px 1px rgba(0, 0, 0, 0.15);\n",
              "      filter: drop-shadow(0px 1px 2px rgba(0, 0, 0, 0.3));\n",
              "      fill: #FFFFFF;\n",
              "    }\n",
              "  </style>\n",
              "\n",
              "      <script>\n",
              "        const buttonEl =\n",
              "          document.querySelector('#df-0fe3f0fc-1537-46f7-b277-17ee1b9790fa button.colab-df-convert');\n",
              "        buttonEl.style.display =\n",
              "          google.colab.kernel.accessAllowed ? 'block' : 'none';\n",
              "\n",
              "        async function convertToInteractive(key) {\n",
              "          const element = document.querySelector('#df-0fe3f0fc-1537-46f7-b277-17ee1b9790fa');\n",
              "          const dataTable =\n",
              "            await google.colab.kernel.invokeFunction('convertToInteractive',\n",
              "                                                     [key], {});\n",
              "          if (!dataTable) return;\n",
              "\n",
              "          const docLinkHtml = 'Like what you see? Visit the ' +\n",
              "            '<a target=\"_blank\" href=https://colab.research.google.com/notebooks/data_table.ipynb>data table notebook</a>'\n",
              "            + ' to learn more about interactive tables.';\n",
              "          element.innerHTML = '';\n",
              "          dataTable['output_type'] = 'display_data';\n",
              "          await google.colab.output.renderOutput(dataTable, element);\n",
              "          const docLink = document.createElement('div');\n",
              "          docLink.innerHTML = docLinkHtml;\n",
              "          element.appendChild(docLink);\n",
              "        }\n",
              "      </script>\n",
              "    </div>\n",
              "  </div>\n",
              "  "
            ]
          },
          "metadata": {},
          "execution_count": 16
        }
      ]
    },
    {
      "cell_type": "code",
      "metadata": {
        "id": "i0Wctx6KkWRu",
        "colab": {
          "base_uri": "https://localhost:8080/"
        },
        "outputId": "7ec5c9e7-85f0-4563-b780-479f8b21f4a9"
      },
      "source": [
        "#TEST_CELL\n",
        "cereal_df.info()"
      ],
      "execution_count": null,
      "outputs": [
        {
          "output_type": "stream",
          "name": "stdout",
          "text": [
            "<class 'pandas.core.frame.DataFrame'>\n",
            "RangeIndex: 74 entries, 0 to 73\n",
            "Data columns (total 11 columns):\n",
            " #   Column                 Non-Null Count  Dtype  \n",
            "---  ------                 --------------  -----  \n",
            " 0   nombre                 74 non-null     object \n",
            " 1   fabricante             74 non-null     object \n",
            " 2   calorias               74 non-null     int64  \n",
            " 3   proteina               74 non-null     int64  \n",
            " 4   grasa                  74 non-null     int64  \n",
            " 5   sodio                  74 non-null     int64  \n",
            " 6   fibra dietaria         74 non-null     float64\n",
            " 7   carbohidratos          74 non-null     float64\n",
            " 8   azúcar                 74 non-null     int64  \n",
            " 9   potasio                74 non-null     int64  \n",
            " 10  vitaminas y minerales  74 non-null     int64  \n",
            "dtypes: float64(2), int64(7), object(2)\n",
            "memory usage: 6.5+ KB\n"
          ]
        }
      ]
    },
    {
      "cell_type": "markdown",
      "metadata": {
        "id": "aou37DeR_xd9"
      },
      "source": [
        "No se preocupe por el archivo del dataset en ***UNCode***, el ambiente de calificación ya cuenta con este archivo para calificar sus ejercicios."
      ]
    },
    {
      "cell_type": "markdown",
      "metadata": {
        "id": "zUcb7X0eGCAi"
      },
      "source": [
        "## **1. Valores nutricionales medios con confianza**\n",
        "---\n",
        "Usted es parte de un equipo que está trabajando en un análisis nutricional de la muestra de productos recolectada en el *dataset* de cereales. En un primer acercamiento se le encomienda la tarea de encontrar el valor promedio, en forma de intervalo de confianza, de la información nutricional de una variable dada (por ejemplo, el total de azúcar o calorias) de los productos de un fabricante específico de cereales.\n",
        "\n",
        "Para esto, deberá definir la función **`valor_medio_intervalo`**, que tomará como entrada el nombre del **`fabricante`**, la columna o **`variable`** sobre la que debe realizar el cálculo y el nivel de **`confianza`** deseado para el cálculo del intervalo.\n",
        "\n",
        "**Entradas:**\n",
        "  * **`fabricante`**: Nombre del fabricante (**_Kelloggs_, _Quaker Oats_, _General Mills_, etc**).\n",
        "  * **`variable`**: Nombre de la variable numérica sobre la que se realiza el cálculo (**azúcares, grasa, proteina, etc**).\n",
        "  * **`confianza`**: Nivel **$\\beta$** de confianza del intervalo.\n",
        "\n",
        "**Salidas:**\n",
        "  * **`inicio`**: Límite inferior del intervalo de confianza. \n",
        "  * **`final`**:  Límite superior del intervalo de confianza. \n",
        "\n",
        "\n",
        "Por ejemplo, si un miembro del equipo desea conocer el valor medio de **azúcar** del fabricante ***Kelloggs*** con un $95\\%$ de confianza, el resultado de la ejecución debería ser el siguiente intervalo:\n",
        "\n",
        "```python\n",
        ">>> valor_medio_intervalo('Kelloggs', 'azúcar', 0.95)\n",
        "(5.618939147403277, 9.511495635205419)\n",
        "```"
      ]
    },
    {
      "cell_type": "markdown",
      "metadata": {
        "id": "MLGwxvJnmbV3"
      },
      "source": [
        "<details>    \n",
        "<summary>\n",
        "    <font size=\"3\" color=\"darkgreen\"><b>Pistas</b></font>\n",
        "</summary>\n",
        "<p>\n",
        "\n",
        "* Recuerde la distinción entre nivel de **confianza** ($\\beta$) y nivel de  **significancia** ($\\alpha$).\n",
        "* Puede realizar selección condicional en un eje y selección por etiquetas en otro con el atributo **`.loc`** para obtener el *dataset* seleccionando únicamente con los datos de interés.\n",
        "* Consulte el material de estadística inferencial para saber cómo realizar un intervalo de confianza con **`statsmodels`**. No es necesario que utilice el método analítico.\n",
        "</p>"
      ]
    },
    {
      "cell_type": "code",
      "metadata": {
        "id": "5nAcKJwlirwx"
      },
      "source": [
        "# FUNCIÓN CALIFICADA valor_medio_intervalo: \n",
        "\n",
        "def valor_medio_intervalo(fabricante, variable, confianza):\n",
        "  ### ESCRIBA SU CÓDIGO AQUÍ ### (~ 3 líneas de código)\n",
        "  subconjunto = (cereal_df.loc[cereal_df[\"fabricante\"]==fabricante])[variable]\n",
        "  # Seleccione únicamente los datos de interés (fabricante, variable) a partir del dataset 'cereal_df'\n",
        "  inicio, final  =  sm.stats.DescrStatsW(subconjunto).tconfint_mean(alpha = 0.05)  # Ejecute la función estadística necesaria para obtener el intervalo de confianza.\n",
        "  return inicio, final\n",
        "  ### FIN DEL CÓDIGO ###"
      ],
      "execution_count": null,
      "outputs": []
    },
    {
      "cell_type": "code",
      "source": [],
      "metadata": {
        "id": "UKpSRV71ImEJ"
      },
      "execution_count": null,
      "outputs": []
    },
    {
      "cell_type": "code",
      "metadata": {
        "id": "9K3e6F9_GF2J",
        "colab": {
          "base_uri": "https://localhost:8080/"
        },
        "outputId": "4fcaf023-4a36-437b-8ae4-42abe41589eb"
      },
      "source": [
        "#TEST_CELL\n",
        "valor_medio_intervalo('Kelloggs', 'calorias', 0.95)"
      ],
      "execution_count": null,
      "outputs": [
        {
          "output_type": "execute_result",
          "data": {
            "text/plain": [
              "(99.08751461234769, 118.3037897354784)"
            ]
          },
          "metadata": {},
          "execution_count": 7
        }
      ]
    },
    {
      "cell_type": "markdown",
      "metadata": {
        "id": "rQ85Iv3JzJGx"
      },
      "source": [
        "**Salida esperada:**\n",
        "```python\n",
        "(99.08751461234769, 118.3037897354784)\n",
        "```"
      ]
    },
    {
      "cell_type": "markdown",
      "metadata": {
        "id": "G-hKW1xVvLa0"
      },
      "source": [
        "## **2. ¿Existe alguna diferencia nutricional significativa entre los productos de *Kelloggs* y *General Mills*?**\n",
        "---\n",
        "Como parte del proceso de análisis se decide identificar si un fabricante ofrece productos cuyos valores nutricionales medios presenten diferencias significativas con respecto a los ingredientes y valores nutricionales de otro fabricante. En particular, tras un análisis exploratorio previo, se decidió explorar estas diferencias específicamente entre los fabricantes *Kelloggs* y *General Mills*. Esto obedece a que al explorar el conteo de valores por fabricante, se tiene que estos ofrecen un número similar de productos y son los más representativos en el mercado de cereales identificado."
      ]
    },
    {
      "cell_type": "code",
      "metadata": {
        "id": "KsUDMZOKlwFx",
        "colab": {
          "base_uri": "https://localhost:8080/"
        },
        "outputId": "34ec890e-7a49-46be-b5b0-a1fb1361f8a7"
      },
      "source": [
        "#TEST_CELL\n",
        "cereal_df['fabricante'].value_counts()"
      ],
      "execution_count": null,
      "outputs": [
        {
          "output_type": "execute_result",
          "data": {
            "text/plain": [
              "Kelloggs                       23\n",
              "General Mills                  22\n",
              "Quaker Oats                     8\n",
              "Post                            8\n",
              "Nabisco                         6\n",
              "Ralston Purina                  6\n",
              "American Home Food Products     1\n",
              "Name: fabricante, dtype: int64"
            ]
          },
          "metadata": {},
          "execution_count": 8
        }
      ]
    },
    {
      "cell_type": "markdown",
      "metadata": {
        "id": "LdGLhZrLmk9y"
      },
      "source": [
        "Por otro lado, si calculamos los valores medios de las variables numéricas agrupando por fabricante podemos notar algunas diferencias notables en varias de las variables medidas. \n",
        "\n",
        "**¿Alguna de estas diferencias es estadísticamente significativa?**"
      ]
    },
    {
      "cell_type": "code",
      "metadata": {
        "id": "Y0FCvLYzm1t4",
        "colab": {
          "base_uri": "https://localhost:8080/",
          "height": 143
        },
        "outputId": "1ce42d95-9d58-4bde-a4b3-6fe9554ecf71"
      },
      "source": [
        "#TEST_CELL\n",
        "cereal_df.groupby('fabricante').mean().loc[['Kelloggs', 'General Mills']]"
      ],
      "execution_count": null,
      "outputs": [
        {
          "output_type": "execute_result",
          "data": {
            "text/plain": [
              "                 calorias  proteina     grasa       sodio  fibra dietaria  \\\n",
              "fabricante                                                                  \n",
              "Kelloggs       108.695652  2.652174  0.608696  174.782609        2.739130   \n",
              "General Mills  111.363636  2.318182  1.363636  200.454545        1.272727   \n",
              "\n",
              "               carbohidratos    azúcar     potasio  vitaminas y minerales  \n",
              "fabricante                                                                 \n",
              "Kelloggs           15.130435  7.565217  103.043478              34.782609  \n",
              "General Mills      14.727273  7.954545   85.227273              35.227273  "
            ],
            "text/html": [
              "\n",
              "  <div id=\"df-59d5545f-aa14-49d0-87bc-d25916ba4466\">\n",
              "    <div class=\"colab-df-container\">\n",
              "      <div>\n",
              "<style scoped>\n",
              "    .dataframe tbody tr th:only-of-type {\n",
              "        vertical-align: middle;\n",
              "    }\n",
              "\n",
              "    .dataframe tbody tr th {\n",
              "        vertical-align: top;\n",
              "    }\n",
              "\n",
              "    .dataframe thead th {\n",
              "        text-align: right;\n",
              "    }\n",
              "</style>\n",
              "<table border=\"1\" class=\"dataframe\">\n",
              "  <thead>\n",
              "    <tr style=\"text-align: right;\">\n",
              "      <th></th>\n",
              "      <th>calorias</th>\n",
              "      <th>proteina</th>\n",
              "      <th>grasa</th>\n",
              "      <th>sodio</th>\n",
              "      <th>fibra dietaria</th>\n",
              "      <th>carbohidratos</th>\n",
              "      <th>azúcar</th>\n",
              "      <th>potasio</th>\n",
              "      <th>vitaminas y minerales</th>\n",
              "    </tr>\n",
              "    <tr>\n",
              "      <th>fabricante</th>\n",
              "      <th></th>\n",
              "      <th></th>\n",
              "      <th></th>\n",
              "      <th></th>\n",
              "      <th></th>\n",
              "      <th></th>\n",
              "      <th></th>\n",
              "      <th></th>\n",
              "      <th></th>\n",
              "    </tr>\n",
              "  </thead>\n",
              "  <tbody>\n",
              "    <tr>\n",
              "      <th>Kelloggs</th>\n",
              "      <td>108.695652</td>\n",
              "      <td>2.652174</td>\n",
              "      <td>0.608696</td>\n",
              "      <td>174.782609</td>\n",
              "      <td>2.739130</td>\n",
              "      <td>15.130435</td>\n",
              "      <td>7.565217</td>\n",
              "      <td>103.043478</td>\n",
              "      <td>34.782609</td>\n",
              "    </tr>\n",
              "    <tr>\n",
              "      <th>General Mills</th>\n",
              "      <td>111.363636</td>\n",
              "      <td>2.318182</td>\n",
              "      <td>1.363636</td>\n",
              "      <td>200.454545</td>\n",
              "      <td>1.272727</td>\n",
              "      <td>14.727273</td>\n",
              "      <td>7.954545</td>\n",
              "      <td>85.227273</td>\n",
              "      <td>35.227273</td>\n",
              "    </tr>\n",
              "  </tbody>\n",
              "</table>\n",
              "</div>\n",
              "      <button class=\"colab-df-convert\" onclick=\"convertToInteractive('df-59d5545f-aa14-49d0-87bc-d25916ba4466')\"\n",
              "              title=\"Convert this dataframe to an interactive table.\"\n",
              "              style=\"display:none;\">\n",
              "        \n",
              "  <svg xmlns=\"http://www.w3.org/2000/svg\" height=\"24px\"viewBox=\"0 0 24 24\"\n",
              "       width=\"24px\">\n",
              "    <path d=\"M0 0h24v24H0V0z\" fill=\"none\"/>\n",
              "    <path d=\"M18.56 5.44l.94 2.06.94-2.06 2.06-.94-2.06-.94-.94-2.06-.94 2.06-2.06.94zm-11 1L8.5 8.5l.94-2.06 2.06-.94-2.06-.94L8.5 2.5l-.94 2.06-2.06.94zm10 10l.94 2.06.94-2.06 2.06-.94-2.06-.94-.94-2.06-.94 2.06-2.06.94z\"/><path d=\"M17.41 7.96l-1.37-1.37c-.4-.4-.92-.59-1.43-.59-.52 0-1.04.2-1.43.59L10.3 9.45l-7.72 7.72c-.78.78-.78 2.05 0 2.83L4 21.41c.39.39.9.59 1.41.59.51 0 1.02-.2 1.41-.59l7.78-7.78 2.81-2.81c.8-.78.8-2.07 0-2.86zM5.41 20L4 18.59l7.72-7.72 1.47 1.35L5.41 20z\"/>\n",
              "  </svg>\n",
              "      </button>\n",
              "      \n",
              "  <style>\n",
              "    .colab-df-container {\n",
              "      display:flex;\n",
              "      flex-wrap:wrap;\n",
              "      gap: 12px;\n",
              "    }\n",
              "\n",
              "    .colab-df-convert {\n",
              "      background-color: #E8F0FE;\n",
              "      border: none;\n",
              "      border-radius: 50%;\n",
              "      cursor: pointer;\n",
              "      display: none;\n",
              "      fill: #1967D2;\n",
              "      height: 32px;\n",
              "      padding: 0 0 0 0;\n",
              "      width: 32px;\n",
              "    }\n",
              "\n",
              "    .colab-df-convert:hover {\n",
              "      background-color: #E2EBFA;\n",
              "      box-shadow: 0px 1px 2px rgba(60, 64, 67, 0.3), 0px 1px 3px 1px rgba(60, 64, 67, 0.15);\n",
              "      fill: #174EA6;\n",
              "    }\n",
              "\n",
              "    [theme=dark] .colab-df-convert {\n",
              "      background-color: #3B4455;\n",
              "      fill: #D2E3FC;\n",
              "    }\n",
              "\n",
              "    [theme=dark] .colab-df-convert:hover {\n",
              "      background-color: #434B5C;\n",
              "      box-shadow: 0px 1px 3px 1px rgba(0, 0, 0, 0.15);\n",
              "      filter: drop-shadow(0px 1px 2px rgba(0, 0, 0, 0.3));\n",
              "      fill: #FFFFFF;\n",
              "    }\n",
              "  </style>\n",
              "\n",
              "      <script>\n",
              "        const buttonEl =\n",
              "          document.querySelector('#df-59d5545f-aa14-49d0-87bc-d25916ba4466 button.colab-df-convert');\n",
              "        buttonEl.style.display =\n",
              "          google.colab.kernel.accessAllowed ? 'block' : 'none';\n",
              "\n",
              "        async function convertToInteractive(key) {\n",
              "          const element = document.querySelector('#df-59d5545f-aa14-49d0-87bc-d25916ba4466');\n",
              "          const dataTable =\n",
              "            await google.colab.kernel.invokeFunction('convertToInteractive',\n",
              "                                                     [key], {});\n",
              "          if (!dataTable) return;\n",
              "\n",
              "          const docLinkHtml = 'Like what you see? Visit the ' +\n",
              "            '<a target=\"_blank\" href=https://colab.research.google.com/notebooks/data_table.ipynb>data table notebook</a>'\n",
              "            + ' to learn more about interactive tables.';\n",
              "          element.innerHTML = '';\n",
              "          dataTable['output_type'] = 'display_data';\n",
              "          await google.colab.output.renderOutput(dataTable, element);\n",
              "          const docLink = document.createElement('div');\n",
              "          docLink.innerHTML = docLinkHtml;\n",
              "          element.appendChild(docLink);\n",
              "        }\n",
              "      </script>\n",
              "    </div>\n",
              "  </div>\n",
              "  "
            ]
          },
          "metadata": {},
          "execution_count": 9
        }
      ]
    },
    {
      "cell_type": "markdown",
      "metadata": {
        "id": "YtXEI62LnFQV"
      },
      "source": [
        "En este ejercicio deberá escribir la función **`cereales_hipotesis_media`**. Esta función realiza un test de hipótesis sobre la diferencia de medias de una **`variable`** dada, con un nivel de **`confianza`** deseado, para los fabricantes ***Kelloggs*** y ***General Mills***. A partir de los resultados del test de hipótesis debe determinar:\n",
        "\n",
        "*  Si se puede llegar o no a una **`conclusión`** significativa con el valor de confianza deseado.\n",
        "*  El **`p-valor`** de la prueba.\n",
        "*  El nombre del fabricante con **`mayor`** y **`menor`** valor según la media muestral, en ese orden.\n",
        "\n",
        "\n",
        "**Entradas:**\n",
        "  * **`variable`**: Nombre de la variable numérica sobre la que se realiza el cálculo (**azúcares, grasa, proteína, etc.**).\n",
        "  * **`confianza`**: Nivel **$\\beta$** de confianza del intervalo.\n",
        "\n",
        "**Salidas:**\n",
        "  * **`conclusión`**: Valor Booleano (`True` o `False`) indicando si hay una diferencia significativa. \n",
        "  * **`p_valor`**:  El **`p-valor`** de la prueba. \n",
        "  * **`mayor`**:  El nombre del fabricante con el valor mayor según la media muestral. \n",
        "  * **`menor`**:  El nombre del fabricante con el valor menor según la media muestral. \n",
        "\n",
        "Por ejemplo, si se deseara comparar la cantidad de **azúcar** con un valor de confianza del $95\\%$, el resultado de la ejecución debería ser el siguiente:\n",
        "\n",
        "\n",
        "```python\n",
        ">>> cereales_hipotesis_media('azúcar', 0.95)\n",
        "(False, 0.7577470989748843, 'General Mills', 'Kelloggs')\n",
        "```\n",
        "\n",
        "\n"
      ]
    },
    {
      "cell_type": "markdown",
      "metadata": {
        "id": "Ibzh7vwJqkps"
      },
      "source": [
        "<details>    \n",
        "<summary>\n",
        "    <font size=\"3\" color=\"darkgreen\"><b>Pistas</b></font>\n",
        "</summary>\n",
        "<p>\n",
        "\n",
        "* Recuerde la distinción entre **confianza** ($\\beta$) y **significancia** ($\\alpha$).\n",
        "* Consulte el material de estadística inferencial para saber cómo realizar un test de hipótesis con **`scipy`**. No es necesario que utilice el método analítico.\n",
        "* Tenga en cuenta que el test está diseñado para identificar si **existe una diferencia significativa**, y no se conoce ni hipotetiza cuál de las dos debería ser mayor. ¿Qué tipo de *hipótesis* es esta y qué relación tiene con la significancia utilizada?\n",
        "* Considere el tamaño de las muestras y demás factores. ¿Qué prueba de hipótesis discutida y ejemplificada en el material guía es la más apropiada?\n",
        "</p>"
      ]
    },
    {
      "cell_type": "code",
      "metadata": {
        "id": "1es5UfValMuC"
      },
      "source": [
        "# FUNCIÓN CALIFICADA cereales_hipotesis_media:\n",
        "##realiza un test de hipótesis sobre la diferencia de medias de una variable dada, con un nivel de confianza deseado\n",
        "def cereales_hipotesis_media(variable, confianza):\n",
        "  # Seleccionamos los fabricantes que nos interesan\n",
        "  kelloggs = cereal_df.loc[cereal_df['fabricante'] == 'Kelloggs']\n",
        "  general_mills = cereal_df.loc[cereal_df['fabricante'] == 'General Mills']\n",
        "  ### ESCRIBA SU CÓDIGO AQUÍ ### (~ 5 líneas de código)\n",
        "  stat, pvalor = stats.ttest_ind(kelloggs.loc[:,variable], general_mills.loc[:,variable]) # Ejecute la prueba estadística más apropiada. \n",
        "  conclusion = True if pvalor <= (1-confianza) else False # Utilice el resultado de la prueba para determinar si la diferencia es significativa o no (conclusión).\n",
        "  mayor = \"General Mills\" if general_mills.loc[:,variable].mean() > kelloggs.loc[:,variable].mean() else \"Kelloggs\"\n",
        "  menor = \"Kelloggs\" if general_mills.loc[:,variable].mean() > kelloggs.loc[:,variable].mean() else \"General Mills\" \n",
        "  None  # Asigne el nombre de cada fabricante a la variable correspondiente de acuerdo al resultado. \n",
        "  ### FIN DEL CÓDIGO ###\n",
        "  return conclusion, pvalor, mayor, menor"
      ],
      "execution_count": null,
      "outputs": []
    },
    {
      "cell_type": "code",
      "metadata": {
        "id": "9JbR2n7p1eh4",
        "colab": {
          "base_uri": "https://localhost:8080/"
        },
        "outputId": "7a876028-2ab4-4b1c-9424-0add0174c7bf"
      },
      "source": [
        "#TEST_CELL\n",
        "cereales_hipotesis_media('azúcar', 0.95)"
      ],
      "execution_count": null,
      "outputs": [
        {
          "output_type": "execute_result",
          "data": {
            "text/plain": [
              "(False, 0.7577470989748843, 'General Mills', 'Kelloggs')"
            ]
          },
          "metadata": {},
          "execution_count": 11
        }
      ]
    },
    {
      "cell_type": "markdown",
      "metadata": {
        "id": "iwhnqtZqRikN"
      },
      "source": [
        "**Salida esperada:**\n",
        "```python\n",
        "(False, 0.7577470989748843, 'General Mills', 'Kelloggs')\n",
        "```"
      ]
    },
    {
      "cell_type": "markdown",
      "metadata": {
        "id": "RWrer4cUzcQU"
      },
      "source": [
        "Puede usar la siguiente celda de pruebas para probar su función. En esta se lleva a cabo la prueba en todas las variables con un nivel de confianza del $90\\%$."
      ]
    },
    {
      "cell_type": "code",
      "metadata": {
        "id": "umM8jT3Azlvf",
        "colab": {
          "base_uri": "https://localhost:8080/"
        },
        "outputId": "5a445fce-cb62-4294-85ef-b3d5b7fb1b4a"
      },
      "source": [
        "#TEST_CELL\n",
        "confianza = 0.9\n",
        "print(f'Con un valor de confianza de {confianza}')\n",
        "print('-------------------------------------------')\n",
        "for variable in cereal_df.select_dtypes(np.number).columns: # select_dtypes para tener en cuenta solo variables numéricas.\n",
        "  conclusion, pvalor, mayor, menor = cereales_hipotesis_media(variable, confianza)\n",
        "  if (conclusion):\n",
        "    print(f'Los productos de {mayor} tienen mayor cantidad de {variable} que los de {menor} con un p-valor de {pvalor:.4f}.\\n') #  :.4f para aproximar a 4 decimales.\n",
        "  else:\n",
        "    print(f'No se puede afirmar que existe una diferencia en la cantidad de {variable}. (p-valor: {pvalor:.4f})\\n')"
      ],
      "execution_count": 18,
      "outputs": [
        {
          "output_type": "stream",
          "name": "stdout",
          "text": [
            "Con un valor de confianza de 0.9\n",
            "-------------------------------------------\n",
            "No se puede afirmar que existe una diferencia en la cantidad de calorias. (p-valor: 0.6111)\n",
            "\n",
            "No se puede afirmar que existe una diferencia en la cantidad de proteina. (p-valor: 0.3141)\n",
            "\n",
            "Los productos de General Mills tienen mayor cantidad de grasa que los de Kelloggs con un p-valor de 0.0011.\n",
            "\n",
            "No se puede afirmar que existe una diferencia en la cantidad de sodio. (p-valor: 0.2096)\n",
            "\n",
            "Los productos de Kelloggs tienen mayor cantidad de fibra dietaria que los de General Mills con un p-valor de 0.0505.\n",
            "\n",
            "No se puede afirmar que existe una diferencia en la cantidad de carbohidratos. (p-valor: 0.7344)\n",
            "\n",
            "No se puede afirmar que existe una diferencia en la cantidad de azúcar. (p-valor: 0.7577)\n",
            "\n",
            "No se puede afirmar que existe una diferencia en la cantidad de potasio. (p-valor: 0.4185)\n",
            "\n",
            "No se puede afirmar que existe una diferencia en la cantidad de vitaminas y minerales. (p-valor: 0.9547)\n",
            "\n"
          ]
        }
      ]
    },
    {
      "cell_type": "markdown",
      "metadata": {
        "id": "8gJsxr25r0PZ"
      },
      "source": [
        "**Salida esperada:**\n",
        "```python\n",
        "Con un valor de confianza de 0.9\n",
        "-------------------------------------------\n",
        "No se puede afirmar que existe una diferencia en la cantidad de calorias. (p-valor: 0.6111)\n",
        "\n",
        "No se puede afirmar que existe una diferencia en la cantidad de proteina. (p-valor: 0.3141)\n",
        "\n",
        "Los productos de General Mills tienen mayor cantidad de grasa que los de Kelloggs con un p-valor de 0.0011.\n",
        "\n",
        "No se puede afirmar que existe una diferencia en la cantidad de sodio. (p-valor: 0.2096)\n",
        "\n",
        "No se puede afirmar que existe una diferencia en la cantidad de fibra dietaria. (p-valor: 0.0505)\n",
        "\n",
        "No se puede afirmar que existe una diferencia en la cantidad de carbohidratos. (p-valor: 0.7344)\n",
        "\n",
        "No se puede afirmar que existe una diferencia en la cantidad de azúcar. (p-valor: 0.7577)\n",
        "\n",
        "No se puede afirmar que existe una diferencia en la cantidad de potasio. (p-valor: 0.4185)\n",
        "\n",
        "No se puede afirmar que existe una diferencia en la cantidad de vitaminas y minerales. (p-valor: 0.9547)\n",
        "```"
      ]
    },
    {
      "cell_type": "markdown",
      "metadata": {
        "id": "lkxuBtI355OP"
      },
      "source": [
        "¿Cómo se puede interpretar este resultado? Por favor, siempre analice e interprete sus hallazgos."
      ]
    },
    {
      "cell_type": "markdown",
      "metadata": {
        "id": "YjD3kZ5ePL71"
      },
      "source": [
        "**¡Felicitaciones!** Ha terminado el quiz. ¡Excelente trabajo!\n",
        "\n",
        "## **Entrega**\n",
        "Para entregar el notebook por favor haga lo siguiente:\n",
        "1. Descargue el notebook (`Archivo` -> `Descargar .ipynb`).\n",
        "2. Ingrese a la plataforma de aprendizaje.\n",
        "3. Realice el envío del *notebook* que descargó en la tarea (o quiz) correspondiente.\n",
        "4. Recuerde que si tiene algún error, puede hacer múltiples intentos. "
      ]
    },
    {
      "cell_type": "markdown",
      "metadata": {
        "id": "JJbV7A38uZhC"
      },
      "source": [
        "## **Créditos**\n",
        "---\n",
        "\n",
        "* **Profesor:** [Felipe Restrepo Calle](https://dis.unal.edu.co/~ferestrepoca/)\n",
        "* **Asistentes docentes:**\n",
        "  - Alberto Nicolai Romero Martínez\n",
        "  - Miguel Angel Ortiz Marín\n",
        "\n",
        "**Universidad Nacional de Colombia** - *Facultad de Ingeniería*\n"
      ]
    }
  ]
}