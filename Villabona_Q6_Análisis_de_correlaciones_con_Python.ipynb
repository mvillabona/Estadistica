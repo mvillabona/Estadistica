{
  "nbformat": 4,
  "nbformat_minor": 0,
  "metadata": {
    "colab": {
      "provenance": [],
      "collapsed_sections": []
    },
    "kernelspec": {
      "name": "python3",
      "display_name": "Python 3"
    }
  },
  "cells": [
    {
      "cell_type": "markdown",
      "metadata": {
        "id": "fb9pUStUq6xf"
      },
      "source": [
        "<img src = \"https://drive.google.com/uc?export=view&id=1XIxF92v5BOrpS63i6FMIXGddxAp8WSHd\" alt = \"Encabezado MLDS\" width = \"100%\">  </img>"
      ]
    },
    {
      "cell_type": "markdown",
      "metadata": {
        "id": "w-Lp8M0edvx-"
      },
      "source": [
        "#**Quiz 6: Análisis de correlaciones con *Python***\n",
        "---\n",
        "\n",
        "Este es un quiz para practicar las habilidades adquiridas usando *Python* en el análisis de correlación. Utilizaremos el [dataset 80 Cereals](https://www.kaggle.com/crawford/80-cereals) de *Kaggle*. Para esto, previamente hemos realizado un proceso de limpieza y traducción adecuado para el ejercicio.\n",
        "\n",
        "Este conjunto de datos cuenta con información nutricional de una muestra de 80 cereales:\n",
        "\n",
        "| Variable | Definición\t| Valores | \n",
        "| --- | --- | --- |\n",
        "| nombre | \tNombre del producto  | \tCadenas de texto |\n",
        "| fabricante \t| Nombre del fabricante | 'Kelloggs', 'Quaker Oats', 'General Mills', 'Nabisco', etc  |\n",
        "| calorias \t| Calorías por porción. \t| Numéricos |\n",
        "| proteina |\tGramos de proteína. \t|Numéricos |\n",
        "| grasa |\tGramos de grasas saturadas. \t| Numéricos|\n",
        "| sodio |\tMiligramos de sodio. \t|Numéricos |\n",
        "| fibra dietaria |\tGramos de fibra dietaria. \t| Numéricos|\n",
        "| carbohidratos |\tGramos de carbohidratos complejos. \t|Numéricos |\n",
        "| potasio |\tMiligramos de potasio. \t|Numéricos |\n",
        "| vitaminas y minerales |\tPorcentaje de vitaminas y minerales. \t|Numéricos |\n",
        "\n",
        "\n",
        "En este quiz usted debe realizar un proceso de análisis de datos con *Python* con el objetivo de practicar los conceptos y habilidades aprendidas de análisis de correlación.\n",
        "\n",
        "> **Nota:** Esta tarea va a ser calificada en la plataforma **[UNCode](https://juezun.github.io/)**. Para esto, en cada ejercicio se indicará si es calificable o no, también los lugares donde debe escribir su código sin modificar lo demás con un aproximado de cantidad de líneas a escribir. No se preocupe si su código toma más líneas, esto es simplemente un aproximado destinado a que pueda replantear su estrategia si el código está tomando más de las esperadas. No es un requisito estricto y soluciones más largas también son válidas. Al finalizar, para realizar el envío (*submission*), descargue el notebook como un archivo **`.ipynb`** y haga su entrega a través de la plataforma de aprendizaje."
      ]
    },
    {
      "cell_type": "markdown",
      "metadata": {
        "id": "DRzX-aD3pG6T"
      },
      "source": [
        "Ejecute la siguiente celda para importar las librerías."
      ]
    },
    {
      "cell_type": "code",
      "metadata": {
        "id": "PWxZydM4Lzk3"
      },
      "source": [
        "# Importar librerías\n",
        "import pandas as pd\n",
        "import numpy as np\n",
        "from scipy import stats\n",
        "import scipy"
      ],
      "execution_count": 4,
      "outputs": []
    },
    {
      "cell_type": "markdown",
      "metadata": {
        "id": "3dnVgwvURi-L"
      },
      "source": [
        "Ejecute la siguiente celda para importar las librerías."
      ]
    },
    {
      "cell_type": "code",
      "metadata": {
        "id": "ssRStmbyRi-M",
        "colab": {
          "base_uri": "https://localhost:8080/"
        },
        "outputId": "95e39223-3c9f-422e-987f-23ce4ea567d2"
      },
      "source": [
        "#TEST_CELL\n",
        "!python --version\n",
        "print('Pandas', pd.__version__)\n",
        "print('NumPy', np.__version__)\n",
        "print('SciPy', scipy.__version__)"
      ],
      "execution_count": 5,
      "outputs": [
        {
          "output_type": "stream",
          "name": "stdout",
          "text": [
            "Python 3.7.14\n",
            "Pandas 1.3.5\n",
            "NumPy 1.21.6\n",
            "SciPy 1.7.3\n"
          ]
        }
      ]
    },
    {
      "cell_type": "markdown",
      "metadata": {
        "id": "ROZNbg6fpLpu"
      },
      "source": [
        "Este material fue realizado con las siguientes versiones:\n",
        "\n",
        "- Python 3.6.9\n",
        "- Pandas: 1.1.5\n",
        "- NumPy: 1.19.5\n",
        "- SciPy: 1.4.1\n",
        "\n",
        "\n",
        "> **Nota:** Recuerde usar los alias y convenciones de la celda anterior en su código. UNCode no tendrá en cuenta librerías que importe en otras celdas y podrían afectar el tiempo de ejecución de los problemas. Estos son:\n",
        "  *  **Pandas**: **`pd`**\n",
        "  *  **NumPy**: **`np`**\n",
        "  *  **SciPy stats**: **`stats`**"
      ]
    },
    {
      "cell_type": "markdown",
      "metadata": {
        "id": "kYfn30XJ_aff"
      },
      "source": [
        "## **0.  Leer el archivo de datos**\n",
        "---\n",
        "> **IMPORTANTE:** \n",
        "\n",
        "  1. Por favor descargue el archivo con el conjunto de datos desde el siguiente enlace: **[cerealsquiz.csv](https://raw.githubusercontent.com/JuezUN/datasets/master/cerealsquiz.csv)**. \n",
        "  \n",
        "  2. En el enlace, haga clic derecho y seleccione la opción **\"Guardar como...\"**.\n",
        "\n",
        "  3. Cargue este archivo en su sistema de archivos de **Google Colaboratory**. Para hacer esto:\n",
        "    \n",
        "    * Haga clic donde aparece el icono del directorio en la parte izquierda de la ventana en *Google Colaboratory* (resaltado en azul en la siguiente imagen con el número 1).\n",
        "    * Después, haga clic en el icono **\"Subir\"** (resaltado en azul en la siguiente imagen con el número 2).\n",
        "    * Seleccione el archivo **`titanic.csv`** que previamente descargó y haga clic en **\"Aceptar\"**.\n",
        "\n",
        "<img src = \"https://drive.google.com/uc?export=view&id=13W59jfdOpAn_DYIjpXt4WPBZiU7BlRGY\" alt = \"Sistema archivos colab\" width = \"70%\">  </img>\n",
        "\n",
        "4. Ejecute la siguiente celda para cargar el conjunto de datos dentro del DataFrame de *pandas* llamado **`cereal_df`**:"
      ]
    },
    {
      "cell_type": "code",
      "metadata": {
        "id": "Y9F6G_l5pKOZ"
      },
      "source": [
        "### EJECUTAR ESTA CELDA SIN MODIFICARLA. SI FALLA, DEBE SEGUIR EL PROCEDIMIENTO DESCRITO ANTES.\n",
        "cereal_df = pd.read_csv('cerealsquiz.csv')"
      ],
      "execution_count": 6,
      "outputs": []
    },
    {
      "cell_type": "code",
      "metadata": {
        "id": "i0Wctx6KkWRu",
        "colab": {
          "base_uri": "https://localhost:8080/"
        },
        "outputId": "b621c339-273a-4466-8884-bed36c88a342"
      },
      "source": [
        "#TEST_CELL\n",
        "cereal_df.info()"
      ],
      "execution_count": 7,
      "outputs": [
        {
          "output_type": "stream",
          "name": "stdout",
          "text": [
            "<class 'pandas.core.frame.DataFrame'>\n",
            "RangeIndex: 74 entries, 0 to 73\n",
            "Data columns (total 11 columns):\n",
            " #   Column                 Non-Null Count  Dtype  \n",
            "---  ------                 --------------  -----  \n",
            " 0   nombre                 74 non-null     object \n",
            " 1   fabricante             74 non-null     object \n",
            " 2   calorias               74 non-null     int64  \n",
            " 3   proteina               74 non-null     int64  \n",
            " 4   grasa                  74 non-null     int64  \n",
            " 5   sodio                  74 non-null     int64  \n",
            " 6   fibra dietaria         74 non-null     float64\n",
            " 7   carbohidratos          74 non-null     float64\n",
            " 8   azúcar                 74 non-null     int64  \n",
            " 9   potasio                74 non-null     int64  \n",
            " 10  vitaminas y minerales  74 non-null     int64  \n",
            "dtypes: float64(2), int64(7), object(2)\n",
            "memory usage: 6.5+ KB\n"
          ]
        }
      ]
    },
    {
      "cell_type": "markdown",
      "metadata": {
        "id": "aou37DeR_xd9"
      },
      "source": [
        "No se preocupe por el archivo del dataset en ***UNCode***, el ambiente de calificación ya cuenta con este archivo para calificar sus ejercicios."
      ]
    },
    {
      "cell_type": "markdown",
      "metadata": {
        "id": "zUcb7X0eGCAi"
      },
      "source": [
        "## **1. Información nutricional con mayor relación**\n",
        "---\n",
        "Este conjunto de datos refleja la información nutricional de distintos cereales. En él, se realizaron mediciones como cantidad de azúcar, calorías, grasas, fibra, entre otros. Una pregunta que se puede plantear es si existe una relación directa entre la magnitud de estas variables de información nutricional. \n",
        "\n",
        "Su tarea es identificar las variables de la información nutricional con mayor relación lineal con respecto a una variable dada. Para esto, implemente la función **`ingredientes_más_relacionados`** que retorne un objeto *Series* de *pandas* cuyo índice sean las demás variables numéricas del *DataFrame* **`cereal_df`**, y cuyos valores sean la magnitud de los coeficientes de **correlación de *Pearson*** con respecto a la variable de entrada, ordenados de mayor a menor magnitud.\n",
        "\n",
        "**Entrada:**\n",
        "  * **`variable`:** Nombre de la variable sobre la cual se calculan las correlaciones.\n",
        "\n",
        "**Salida:**\n",
        "  * **`ingredientes`:** Objeto *Series* con las magnitudes de la correlación de cada variable numérica con la variable de entrada, ordenada de mayor a menor magnitud. Este objeto **NO** debe contener la **`variable`** usada como referencia.\n",
        "\n",
        "\n",
        "Por ejemplo, si se desea obtener la serie con las correlaciones asociadas a la variable **\"azúcar\"**, el resultado de la ejecución sería el siguiente:\n",
        "\n",
        "```python\n",
        ">>> ingredientes_más_relacionados('azúcar')\n",
        "\n",
        "calorias                 0.547685\n",
        "proteina                 0.381669\n",
        "carbohidratos            0.340435\n",
        "grasa                    0.229358\n",
        "fibra dietaria           0.165885\n",
        "vitaminas y minerales    0.132193\n",
        "sodio                    0.114690\n",
        "potasio                  0.019051\n",
        "Name: azúcar, dtype: float64\n",
        "```"
      ]
    },
    {
      "cell_type": "markdown",
      "metadata": {
        "id": "VEwjASRh7pTc"
      },
      "source": [
        "<details>    \n",
        "<summary>\n",
        "    <font size=\"3\" color=\"darkgreen\"><b>Pistas</b></font>\n",
        "</summary>\n",
        "<p>\n",
        "\n",
        "* La matriz de correlación calculada con el método **`corr`** de un *DataFrame* es también un *DataFrame*.\n",
        "* La magnitud de una correlación no es el valor del coeficiente. Por ejemplo, correlaciones negativas y positivas pueden tener la misma magnitud.\n",
        "* Puede usar el método **`sort_values`** para ordenar un objeto de *pandas*.\n",
        "* La correlación de una variable consigo misma es igual a $1.0$. Para esta tarea, ese valor es el mayor de todos y tiene que ser excluido. Se le recomienda esperar hasta el último paso para eliminar este registro por su conveniente ubicación.\n",
        "\n",
        "\n",
        "\n",
        "</p>"
      ]
    },
    {
      "cell_type": "code",
      "metadata": {
        "id": "Ard9nCX1T0g1"
      },
      "source": [
        "# FUNCIÓN CALIFICADA ingredientes_más_relacionados\n",
        "#Este conjunto de datos refleja la información nutricional de distintos cereales. En él, se realizaron mediciones como cantidad de azúcar, calorías, grasas, fibra, entre otros. Una pregunta que se puede plantear \n",
        "##es si existe una relación directa entre la magnitud de estas variables de información nutricional.\n",
        "\n",
        "def ingredientes_más_relacionados(variable):\n",
        "  ### ESCRIBA SU CÓDIGO AQUÍ ### (~ 1-6 líneas de código)\n",
        "  matriz_corr = cereal_df.select_dtypes(include=\"number\").corr().abs()    # Obtenga la matriz de correlación.\n",
        "  serie = matriz_corr[variable].sort_values(ascending = False).drop(variable) \n",
        "   # Genere la serie a partir de la cual realizar las operaciones.\n",
        "\n",
        "  # Modifique la serie teniendo en cuenta lo solicitado.\n",
        "  # Tenga en cuenta su magnitud, contenido y orden.\n",
        "  return serie\n",
        "  ### FIN DEL CÓDIGO ###"
      ],
      "execution_count": 8,
      "outputs": []
    },
    {
      "cell_type": "code",
      "metadata": {
        "id": "QTA9xrAzFWiE",
        "colab": {
          "base_uri": "https://localhost:8080/"
        },
        "outputId": "332b1cc3-590d-4703-eb1e-dabf1be8564d"
      },
      "source": [
        "#TEST_CELL\n",
        "ingredientes_más_relacionados('fibra dietaria')"
      ],
      "execution_count": 9,
      "outputs": [
        {
          "output_type": "execute_result",
          "data": {
            "text/plain": [
              "potasio                  0.906521\n",
              "proteina                 0.498610\n",
              "calorias                 0.355982\n",
              "carbohidratos            0.355039\n",
              "azúcar                   0.165885\n",
              "sodio                    0.067327\n",
              "vitaminas y minerales    0.028791\n",
              "grasa                    0.020329\n",
              "Name: fibra dietaria, dtype: float64"
            ]
          },
          "metadata": {},
          "execution_count": 9
        }
      ]
    },
    {
      "cell_type": "markdown",
      "metadata": {
        "id": "Ilebag7gFYPN"
      },
      "source": [
        "**Salida esperada:**\n",
        "\n",
        "---\n",
        "\n",
        "```python\n",
        "potasio                  0.906521\n",
        "proteina                 0.498610\n",
        "calorias                 0.355982\n",
        "carbohidratos            0.355039\n",
        "azúcar                   0.165885\n",
        "sodio                    0.067327\n",
        "vitaminas y minerales    0.028791\n",
        "grasa                    0.020329\n",
        "Name: fibra dietaria, dtype: float64\n",
        "```"
      ]
    },
    {
      "cell_type": "markdown",
      "metadata": {
        "id": "cQvDkuTWkXeT"
      },
      "source": [
        "## **2. Correlación alta y significativa**\n",
        "---\n",
        "El cálculo de un estadístico en una muestra, como es el caso del coeficiente de correlación, puede estar influenciado por un sesgo o por la aleatoriedad del proceso de muestreo. Es importante validar si a partir de una muestra, la correlación calculada es estadísticamente significativa. Su tarea es implementar la función **`relación_alta_significativa`**, que evalúa si dos variables cualquiera del conjunto de datos **cereal_df** están correlacionadas significativamente, tomando como referencia el coeficiente de correlación de *Pearson*. \n",
        "\n",
        "La función tiene como parámetro opcional un valor entre $0.0$ a $1.0$ (**`min_mag`**) que representa la magnitud mínima que debe tener la correlación para ser considerada alta. La función debe retornar `True` si la relación entre las variables dadas es **alta y significativa**. De lo contrario, la función debe retornar **`False`**.\n",
        "\n",
        "**Entradas:**\n",
        "* **`var_a`:** Nombre de la primera variable en la relación.\n",
        "* **`var_b`:** Nombre de la segunda variable en la relación.\n",
        "* **`min_mag`:** Magnitud mínima que debe tener la correlación. Por defecto es **`0.5`**.\n",
        "* **`confianza`:** Nivel de confianza esperado. Por defecto es **`0.95`**.\n",
        "\n",
        "**Salidas:**\n",
        "  \n",
        "  * **`es_alta_significativa`:** Valor booleano retornando si se acepta **(`True`)** o no **(`False`)** la correlación. Es decir: si es alta y significativa.\n",
        "\n",
        "\n",
        "\n",
        "Por ejemplo, si se desea saber si la relación de **\"azúcar\"** y **\"grasa\"** es alta y significativa, con los valores de confianza y magnitud mínima por defecto, el resultado de la ejecución sería el siguiente:\n",
        "\n",
        "\n",
        "```python\n",
        ">>> relación_alta_significativa('azúcar', 'grasa')\n",
        "False\n",
        "```\n",
        "  \n",
        "  "
      ]
    },
    {
      "cell_type": "markdown",
      "metadata": {
        "id": "9IkFBOh7HSu0"
      },
      "source": [
        "<details>    \n",
        "<summary>\n",
        "    <font size=\"3\" color=\"darkgreen\"><b>Pistas</b></font>\n",
        "</summary>\n",
        "<p>\n",
        "\n",
        "* Recuerde la distinción entre la significancia $\\alpha$ y la confianza $\\beta$.\n",
        "* Utilice algún método de **SciPy** para calcular correlaciones con su **p-valor**.\n",
        "* Se debe validar que se cumple la condición de significancia y la condición de magnitud de la correlación. Si alguna no se cumple la correlación no es aceptada.\n",
        "* Se debe evaluar que el valor obtenido tiene por lo menos cierta **magnitud**. Trate con especial cuidado los valores negativos. Recuerde que se debe revisar la **magnitud** de la correlación, y no su **dirección**.\n",
        "\n",
        "\n",
        "\n",
        "\n",
        "</p>"
      ]
    },
    {
      "cell_type": "code",
      "metadata": {
        "id": "ljkCDMt-kXeZ"
      },
      "source": [
        "# FUNCIÓN CALIFICADA relación_alta_significativa:\n",
        "\n",
        "def relación_alta_significativa(var_a, var_b, min_mag = 0.5, confianza = 0.95):\n",
        "  ### ESCRIBA SU CÓDIGO AQUÍ ### (~ 2-4 líneas de código)\n",
        "  \n",
        "  corr, pvalor = stats.pearsonr(cereal_df[var_a],cereal_df[var_b]) # Calcule el coeficiente de correlación con su p-valor asociado.\n",
        "  es_alta_significativa =  True if pvalor <= (1-confianza) and corr >= min_mag else False  # Utilice los resultados obtenidos para determinar si la correlación es aceptada.\n",
        "  ### FIN DEL CÓDIGO ###\n",
        "\n",
        "  return es_alta_significativa"
      ],
      "execution_count": 24,
      "outputs": []
    },
    {
      "cell_type": "code",
      "metadata": {
        "id": "q5VC-OjK2PrE",
        "colab": {
          "base_uri": "https://localhost:8080/"
        },
        "outputId": "e6dd3452-0b8d-4bff-cfc8-5b35d6bf56ca"
      },
      "source": [
        "#TEST_CELL\n",
        "relación_alta_significativa('calorias', 'azúcar')"
      ],
      "execution_count": 25,
      "outputs": [
        {
          "output_type": "execute_result",
          "data": {
            "text/plain": [
              "True"
            ]
          },
          "metadata": {},
          "execution_count": 25
        }
      ]
    },
    {
      "cell_type": "markdown",
      "metadata": {
        "id": "8gJsxr25r0PZ"
      },
      "source": [
        "**Salida esperada:**\n",
        "\n",
        "---\n",
        "```python\n",
        "True\n",
        "```"
      ]
    },
    {
      "cell_type": "code",
      "metadata": {
        "id": "VO6H45Q82kuD",
        "colab": {
          "base_uri": "https://localhost:8080/"
        },
        "outputId": "b07dcdc7-66ed-4af4-ba64-226313d58638"
      },
      "source": [
        "#TEST_CELL\n",
        "relación_alta_significativa('grasa', 'potasio')"
      ],
      "execution_count": 26,
      "outputs": [
        {
          "output_type": "execute_result",
          "data": {
            "text/plain": [
              "False"
            ]
          },
          "metadata": {},
          "execution_count": 26
        }
      ]
    },
    {
      "cell_type": "markdown",
      "metadata": {
        "id": "R5oOYEBE5gMr"
      },
      "source": [
        "**Salida esperada:**\n",
        "\n",
        "---\n",
        "\n",
        "```python\n",
        "False\n",
        "```"
      ]
    },
    {
      "cell_type": "code",
      "metadata": {
        "id": "CaL4dNw-3Lvd",
        "colab": {
          "base_uri": "https://localhost:8080/"
        },
        "outputId": "88b7735c-039a-46f2-8557-97d2021c7c85"
      },
      "source": [
        "#TEST_CELL\n",
        "relación_alta_significativa('proteina', 'fibra dietaria', min_mag=0.45)"
      ],
      "execution_count": 27,
      "outputs": [
        {
          "output_type": "execute_result",
          "data": {
            "text/plain": [
              "True"
            ]
          },
          "metadata": {},
          "execution_count": 27
        }
      ]
    },
    {
      "cell_type": "markdown",
      "metadata": {
        "id": "2AmjyCz73Lvl"
      },
      "source": [
        "**Salida esperada:**\n",
        "\n",
        "---\n",
        "\n",
        "```python\n",
        "True\n",
        "```"
      ]
    },
    {
      "cell_type": "code",
      "metadata": {
        "id": "03kR9xyO3SiS"
      },
      "source": [
        "#TEST_CELL\n",
        "relación_alta_significativa('calorias', 'azúcar', min_mag = 0.85)"
      ],
      "execution_count": null,
      "outputs": []
    },
    {
      "cell_type": "markdown",
      "metadata": {
        "id": "v3C6xHp23bB8"
      },
      "source": [
        "**Salida esperada:**\n",
        "\n",
        "---\n",
        "\n",
        "```python\n",
        "False\n",
        "```"
      ]
    },
    {
      "cell_type": "markdown",
      "metadata": {
        "id": "4luKKP58V-Qs"
      },
      "source": [
        "**¡Felicitaciones!** Ha terminado el quiz. ¡Buen trabajo!\n",
        "\n",
        "## **Entrega**\n",
        "---\n",
        "Para entregar el notebook por favor haga lo siguiente:\n",
        "1. Descargue el notebook (**`Archivo`** -> **`Descargar .ipynb`**).\n",
        "2. Ingrese a la plataforma de aprendizaje.\n",
        "3. Realice el envío del notebook que descargó en la tarea (o quiz) correspondiente.\n",
        "4. Recuerde que si tiene algún error, puede hacer múltiples intentos. "
      ]
    },
    {
      "cell_type": "markdown",
      "metadata": {
        "id": "JJbV7A38uZhC"
      },
      "source": [
        "## **Créditos**\n",
        "---\n",
        "\n",
        "* **Profesor:** [Felipe Restrepo Calle](https://dis.unal.edu.co/~ferestrepoca/)\n",
        "* **Asistentes docentes:**\n",
        "  - Alberto Nicolai Romero Martínez\n",
        "  - Miguel Angel Ortiz Marín\n",
        "\n",
        "**Universidad Nacional de Colombia** - *Facultad de Ingeniería*\n"
      ]
    }
  ]
}